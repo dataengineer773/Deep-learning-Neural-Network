{
  "nbformat": 4,
  "nbformat_minor": 0,
  "metadata": {
    "colab": {
      "provenance": []
    },
    "kernelspec": {
      "name": "python3",
      "display_name": "Python 3"
    },
    "language_info": {
      "name": "python"
    }
  },
  "cells": [
    {
      "cell_type": "code",
      "execution_count": null,
      "metadata": {
        "id": "wcdTfS5lf_NP"
      },
      "outputs": [],
      "source": [
        "def func(x):\n",
        "  return x"
      ]
    },
    {
      "cell_type": "code",
      "source": [
        "func(2)"
      ],
      "metadata": {
        "colab": {
          "base_uri": "https://localhost:8080/"
        },
        "id": "s-rUgJoUhyIG",
        "outputId": "1c45fd90-c863-4f01-ecdd-1b188b0b82d3"
      },
      "execution_count": null,
      "outputs": [
        {
          "output_type": "execute_result",
          "data": {
            "text/plain": [
              "2"
            ]
          },
          "metadata": {},
          "execution_count": 2
        }
      ]
    },
    {
      "cell_type": "code",
      "source": [
        "def func(y):\n",
        "  return y+2*8-9"
      ],
      "metadata": {
        "id": "QhvThUrwh_Pp"
      },
      "execution_count": null,
      "outputs": []
    },
    {
      "cell_type": "code",
      "source": [
        "func(9)"
      ],
      "metadata": {
        "colab": {
          "base_uri": "https://localhost:8080/"
        },
        "id": "9mM57nxgiY8J",
        "outputId": "13b37b82-3f4b-4308-dc5f-53432ce645bb"
      },
      "execution_count": null,
      "outputs": [
        {
          "output_type": "execute_result",
          "data": {
            "text/plain": [
              "16"
            ]
          },
          "metadata": {},
          "execution_count": 4
        }
      ]
    },
    {
      "cell_type": "code",
      "source": [
        "#McCulloch-pitts Neuron --- of Neural Network\n",
        "def func(x1, x2, x3):\n",
        "  y = x1+x2+x3\n",
        "  return y"
      ],
      "metadata": {
        "id": "p7KlbASNidIJ"
      },
      "execution_count": null,
      "outputs": []
    },
    {
      "cell_type": "code",
      "source": [
        "func(1, 1, 1)"
      ],
      "metadata": {
        "colab": {
          "base_uri": "https://localhost:8080/"
        },
        "id": "_auvCXM6jBFg",
        "outputId": "e3369558-0839-402a-e987-013936d9531c"
      },
      "execution_count": null,
      "outputs": [
        {
          "output_type": "execute_result",
          "data": {
            "text/plain": [
              "3"
            ]
          },
          "metadata": {},
          "execution_count": 6
        }
      ]
    },
    {
      "cell_type": "code",
      "source": [
        "# Single Neuron : in the fact we weighted our entrance and it can be each entrance be diffrence\n",
        "def func(x1, x2, x3):\n",
        "  w1 = 1   # weight Parameter\n",
        "  w2 = 1\n",
        "  w3 = 1\n",
        "  b = 0   # Bias Prarrameter\n",
        "  y = w1*x1 + w2*x2 + w3*x3 + b\n",
        "  return y"
      ],
      "metadata": {
        "id": "bOFkmghAjcNn"
      },
      "execution_count": null,
      "outputs": []
    },
    {
      "cell_type": "code",
      "source": [
        "func(1, 1, 1)"
      ],
      "metadata": {
        "colab": {
          "base_uri": "https://localhost:8080/"
        },
        "id": "5B7yziaRk5ym",
        "outputId": "46dfb0ba-39e6-4d1f-96e8-ae27bde57079"
      },
      "execution_count": null,
      "outputs": [
        {
          "output_type": "execute_result",
          "data": {
            "text/plain": [
              "3"
            ]
          },
          "metadata": {},
          "execution_count": 8
        }
      ]
    },
    {
      "cell_type": "code",
      "source": [
        "# Activation Function :\n",
        "def activate_func(x):\n",
        "  if x>0:\n",
        "    return 1\n",
        "  if x<=0:\n",
        "    return 0"
      ],
      "metadata": {
        "id": "TUtP11AJk8o6"
      },
      "execution_count": null,
      "outputs": []
    },
    {
      "cell_type": "code",
      "source": [
        "activate_func(1)"
      ],
      "metadata": {
        "colab": {
          "base_uri": "https://localhost:8080/"
        },
        "id": "vFqD-4ANokDg",
        "outputId": "bd9c5a9c-9bfd-4618-9506-59b625088787"
      },
      "execution_count": null,
      "outputs": [
        {
          "output_type": "execute_result",
          "data": {
            "text/plain": [
              "1"
            ]
          },
          "metadata": {},
          "execution_count": 10
        }
      ]
    },
    {
      "cell_type": "code",
      "source": [
        "activate_func(2)"
      ],
      "metadata": {
        "colab": {
          "base_uri": "https://localhost:8080/"
        },
        "id": "6hbx5pIdout_",
        "outputId": "aadab204-e8f9-442a-e531-b8733cba223c"
      },
      "execution_count": null,
      "outputs": [
        {
          "output_type": "execute_result",
          "data": {
            "text/plain": [
              "1"
            ]
          },
          "metadata": {},
          "execution_count": 11
        }
      ]
    },
    {
      "cell_type": "code",
      "source": [
        "activate_func(100)"
      ],
      "metadata": {
        "colab": {
          "base_uri": "https://localhost:8080/"
        },
        "id": "Ox1P76BZou6s",
        "outputId": "55fb6db0-1d3d-4a26-cd8c-86ca69f92195"
      },
      "execution_count": null,
      "outputs": [
        {
          "output_type": "execute_result",
          "data": {
            "text/plain": [
              "1"
            ]
          },
          "metadata": {},
          "execution_count": 12
        }
      ]
    },
    {
      "cell_type": "code",
      "source": [
        "activate_func(0)"
      ],
      "metadata": {
        "colab": {
          "base_uri": "https://localhost:8080/"
        },
        "id": "s43IbJW5o78t",
        "outputId": "1c86232e-1041-4517-b781-cdc63f3ead58"
      },
      "execution_count": null,
      "outputs": [
        {
          "output_type": "execute_result",
          "data": {
            "text/plain": [
              "0"
            ]
          },
          "metadata": {},
          "execution_count": 13
        }
      ]
    },
    {
      "cell_type": "code",
      "source": [
        "activate_func(-1)"
      ],
      "metadata": {
        "colab": {
          "base_uri": "https://localhost:8080/"
        },
        "id": "-k26IJZ1ooXK",
        "outputId": "5e377938-37bd-4e12-90e5-523144c54e5d"
      },
      "execution_count": null,
      "outputs": [
        {
          "output_type": "execute_result",
          "data": {
            "text/plain": [
              "0"
            ]
          },
          "metadata": {},
          "execution_count": 14
        }
      ]
    },
    {
      "cell_type": "code",
      "source": [
        "#The Set Of Possetive Numbers\n",
        "y = func(1000, 200, 300)\n",
        "activate_func(y)"
      ],
      "metadata": {
        "colab": {
          "base_uri": "https://localhost:8080/"
        },
        "id": "_lderviMoqyb",
        "outputId": "2fb12cb9-8fbe-44b1-cb9f-f44d14691761"
      },
      "execution_count": null,
      "outputs": [
        {
          "output_type": "execute_result",
          "data": {
            "text/plain": [
              "1"
            ]
          },
          "metadata": {},
          "execution_count": 15
        }
      ]
    },
    {
      "cell_type": "code",
      "source": [
        "y"
      ],
      "metadata": {
        "colab": {
          "base_uri": "https://localhost:8080/"
        },
        "id": "PfHtvcs5pY2s",
        "outputId": "a7630c97-c6f8-498d-e7fb-c1571ae30020"
      },
      "execution_count": null,
      "outputs": [
        {
          "output_type": "execute_result",
          "data": {
            "text/plain": [
              "1500"
            ]
          },
          "metadata": {},
          "execution_count": 16
        }
      ]
    },
    {
      "cell_type": "code",
      "source": [
        "# Loss Function or Cost Function or Objective Function :\n",
        "# The diffrence between estimated and actual value\n",
        "def loss(y, y_hat):   # y is our requirments\n",
        "  return y-y_hat"
      ],
      "metadata": {
        "id": "AngLjhX0p75X"
      },
      "execution_count": null,
      "outputs": []
    },
    {
      "cell_type": "code",
      "source": [
        "# we gave it you for example 2 kilos iron, 3 kilos pelastic ,5 kilos Glass you have to vive it to us =====>y 7 numbers car\n",
        "x1 = 2\n",
        "x2 = 3\n",
        "x3 = 5\n",
        "y = 7"
      ],
      "metadata": {
        "id": "OY6VMIK8ssZI"
      },
      "execution_count": null,
      "outputs": []
    },
    {
      "cell_type": "code",
      "source": [
        "y_hat = func(x1, x2, x3)"
      ],
      "metadata": {
        "id": "pLUWeYxvuIq6"
      },
      "execution_count": null,
      "outputs": []
    },
    {
      "cell_type": "code",
      "source": [
        "y_hat"
      ],
      "metadata": {
        "colab": {
          "base_uri": "https://localhost:8080/"
        },
        "id": "bku4xYyvuO1S",
        "outputId": "3a345ef0-d3f7-4253-bded-69d6afb2b9d2"
      },
      "execution_count": null,
      "outputs": [
        {
          "output_type": "execute_result",
          "data": {
            "text/plain": [
              "10"
            ]
          },
          "metadata": {},
          "execution_count": 20
        }
      ]
    },
    {
      "cell_type": "code",
      "source": [
        "loss(y, y_hat)"
      ],
      "metadata": {
        "colab": {
          "base_uri": "https://localhost:8080/"
        },
        "id": "RL483uYGuTSo",
        "outputId": "972e6558-2892-4404-99e5-e925aa14e341"
      },
      "execution_count": null,
      "outputs": [
        {
          "output_type": "execute_result",
          "data": {
            "text/plain": [
              "-3"
            ]
          },
          "metadata": {},
          "execution_count": 21
        }
      ]
    },
    {
      "cell_type": "code",
      "source": [
        "def f(x):\n",
        "  return x**2"
      ],
      "metadata": {
        "id": "wFZGgvLP-Vq2"
      },
      "execution_count": null,
      "outputs": []
    },
    {
      "cell_type": "code",
      "source": [
        "# Gradient :\n",
        "\n",
        "def grad(f, x, delta_x =0.001): # we put defult delta_x=0.001\n",
        "  return(f(x + delta_x) - f(x))/delta_x"
      ],
      "metadata": {
        "id": "HO-8FSg1ucPC"
      },
      "execution_count": null,
      "outputs": []
    },
    {
      "cell_type": "code",
      "source": [
        "f(3) # wewant to see func f doese it work?"
      ],
      "metadata": {
        "colab": {
          "base_uri": "https://localhost:8080/"
        },
        "id": "XrzKjQos-bmx",
        "outputId": "7ef6d389-c463-4f22-83ca-428422e57ae6"
      },
      "execution_count": null,
      "outputs": [
        {
          "output_type": "execute_result",
          "data": {
            "text/plain": [
              "9"
            ]
          },
          "metadata": {},
          "execution_count": 24
        }
      ]
    },
    {
      "cell_type": "code",
      "source": [
        "grad(f=f, x=2, delta_x=0.001)"
      ],
      "metadata": {
        "colab": {
          "base_uri": "https://localhost:8080/"
        },
        "id": "r7fy3uUH_de6",
        "outputId": "f19e4d42-286f-469c-8f5d-bbf3252b361e"
      },
      "execution_count": null,
      "outputs": [
        {
          "output_type": "execute_result",
          "data": {
            "text/plain": [
              "4.000999999999699"
            ]
          },
          "metadata": {},
          "execution_count": 25
        }
      ]
    },
    {
      "cell_type": "code",
      "source": [
        "# Gradient Descent :\n",
        "# strat from one point and going to decreas the gradient and going to value be zero\n",
        "# since gradient tendency to goimg zero only jyst the zero amount be equvalent to gradient\n",
        "def gradient_descent(x, f):\n",
        "  return x - grad(f, x)"
      ],
      "metadata": {
        "id": "wPmUH5ZqAJD-"
      },
      "execution_count": null,
      "outputs": []
    },
    {
      "cell_type": "code",
      "source": [
        "grad(f, 2) # we want to see does it work our function"
      ],
      "metadata": {
        "id": "zpGTzXkgCIMD",
        "colab": {
          "base_uri": "https://localhost:8080/"
        },
        "outputId": "015757f2-b6d7-4a2c-c6f8-e033ca4c4930"
      },
      "execution_count": null,
      "outputs": [
        {
          "output_type": "execute_result",
          "data": {
            "text/plain": [
              "4.000999999999699"
            ]
          },
          "metadata": {},
          "execution_count": 27
        }
      ]
    },
    {
      "cell_type": "code",
      "source": [
        "2 - grad(f, 2)"
      ],
      "metadata": {
        "id": "dM8IZkF1CMkK",
        "colab": {
          "base_uri": "https://localhost:8080/"
        },
        "outputId": "5323a89c-cc66-4d9e-9de1-a81b369597e7"
      },
      "execution_count": null,
      "outputs": [
        {
          "output_type": "execute_result",
          "data": {
            "text/plain": [
              "-2.0009999999996992"
            ]
          },
          "metadata": {},
          "execution_count": 28
        }
      ]
    },
    {
      "cell_type": "code",
      "source": [
        "gradient_descent(2, f)"
      ],
      "metadata": {
        "colab": {
          "base_uri": "https://localhost:8080/"
        },
        "id": "XVxxfjvTCPKS",
        "outputId": "692a239c-a45d-46ac-aedf-b4c3657a9281"
      },
      "execution_count": null,
      "outputs": [
        {
          "output_type": "execute_result",
          "data": {
            "text/plain": [
              "-2.0009999999996992"
            ]
          },
          "metadata": {},
          "execution_count": 29
        }
      ]
    },
    {
      "cell_type": "code",
      "source": [
        "gradient_descent(-2.0009999999996992, f)"
      ],
      "metadata": {
        "colab": {
          "base_uri": "https://localhost:8080/"
        },
        "id": "1UcAMLdaFRm7",
        "outputId": "1c274ece-f79f-4a30-cd2f-8a4bc5590e4a"
      },
      "execution_count": null,
      "outputs": [
        {
          "output_type": "execute_result",
          "data": {
            "text/plain": [
              "1.9999999999991118"
            ]
          },
          "metadata": {},
          "execution_count": 30
        }
      ]
    },
    {
      "cell_type": "code",
      "source": [
        "gradient_descent(1.9999999999991118, f)"
      ],
      "metadata": {
        "colab": {
          "base_uri": "https://localhost:8080/"
        },
        "id": "hPJyaDOiFWdB",
        "outputId": "ba2bed48-9964-4010-e9e8-97a790fc54b6"
      },
      "execution_count": null,
      "outputs": [
        {
          "output_type": "execute_result",
          "data": {
            "text/plain": [
              "-2.000999999998811"
            ]
          },
          "metadata": {},
          "execution_count": 31
        }
      ]
    },
    {
      "cell_type": "code",
      "source": [
        "# we can define a formulate according the gardient descent :\n",
        "x = 2\n",
        "for i in range(100):\n",
        "  x = gradient_descent(x=x, f=f) # we wqual this code to x cause to automate the ressult of code going to x\n",
        "\n",
        "print(x)\n",
        "# why our amount is not zero????  the start pont is our answer and we must define learning rate ===> ailpha"
      ],
      "metadata": {
        "colab": {
          "base_uri": "https://localhost:8080/"
        },
        "id": "ot_bBZjHDPja",
        "outputId": "7a4744a6-8d1b-41af-c7a2-1e6c3d655bcc"
      },
      "execution_count": null,
      "outputs": [
        {
          "output_type": "stream",
          "name": "stdout",
          "text": [
            "1.999999999955591\n"
          ]
        }
      ]
    },
    {
      "cell_type": "code",
      "source": [
        "def gradient_descent(x, f, alpha=0.1):\n",
        "  return x - grad(f, x)"
      ],
      "metadata": {
        "id": "W9bR04GkEZ_z"
      },
      "execution_count": null,
      "outputs": []
    },
    {
      "cell_type": "code",
      "source": [
        "x = 2\n",
        "for i in range(10):\n",
        "  x = gradient_descent(x=x, f=f)\n",
        "  print(x)"
      ],
      "metadata": {
        "id": "QUNqJb-zeS_1",
        "colab": {
          "base_uri": "https://localhost:8080/"
        },
        "outputId": "94e62524-64da-4bb0-b9aa-8a8d823420e8"
      },
      "execution_count": null,
      "outputs": [
        {
          "output_type": "stream",
          "name": "stdout",
          "text": [
            "-2.0009999999996992\n",
            "1.9999999999991118\n",
            "-2.000999999998811\n",
            "1.9999999999982236\n",
            "-2.000999999997923\n",
            "1.9999999999973355\n",
            "-2.0009999999970347\n",
            "1.9999999999964473\n",
            "-2.0009999999961465\n",
            "1.999999999995559\n"
          ]
        }
      ]
    },
    {
      "cell_type": "code",
      "source": [
        "x = 2\n",
        "for i in range(100):\n",
        "  x = gradient_descent(x=x, f=f)\n",
        "\n",
        "\n",
        "print(x)\n",
        "\n",
        "# then we can dcrease gardient in every function and then reach to that point the gradient in the point is zero\n",
        "# in that point the gradient be reach zero is called Optimum"
      ],
      "metadata": {
        "id": "lsinb2oLecHH",
        "colab": {
          "base_uri": "https://localhost:8080/"
        },
        "outputId": "9ae84331-a7d3-4703-fa70-ce0a25ceb651"
      },
      "execution_count": null,
      "outputs": [
        {
          "output_type": "stream",
          "name": "stdout",
          "text": [
            "1.999999999955591\n"
          ]
        }
      ]
    },
    {
      "cell_type": "code",
      "source": [
        "# with manipulating the w and b the result i mean the diftrence y is decrease i mean the w must be to move the directio to drcrees the y diffrenct . from where\n",
        "# we can  undrestood which direction goind the decrease y ?gradient decsent >>>>>we must to drecrease gradient decsent function"
      ],
      "metadata": {
        "id": "l99xY8eKgcFb"
      },
      "execution_count": null,
      "outputs": []
    },
    {
      "cell_type": "code",
      "source": [
        "# we make a dataset : we want to make neuron\n",
        "x0, y0 = (0, 0, 0), 0 # we have a 3 featuer and one label\n",
        "x1, y1 = (1, 0, 0), 0\n",
        "x2, y2 = (1, 1, 0), 0\n",
        "x3, y3 = (1, 0, 1), 0\n",
        "x4, y4 = (1, 1, 0), 1\n",
        "x5, y5 = (0, 1, 1), 1\n",
        "x6, y6 = (1, 1, 1), 1"
      ],
      "metadata": {
        "id": "eqb92-sUshqG"
      },
      "execution_count": null,
      "outputs": []
    },
    {
      "cell_type": "code",
      "source": [
        "import numpy as np"
      ],
      "metadata": {
        "id": "C6GSHJi1vUrM"
      },
      "execution_count": null,
      "outputs": []
    },
    {
      "cell_type": "code",
      "source": [
        "np.random.uniform(size=5) # our featuers number  are 6"
      ],
      "metadata": {
        "colab": {
          "base_uri": "https://localhost:8080/"
        },
        "id": "rVzrUPapvUy1",
        "outputId": "3e4c0e96-1e87-4fe5-fc2c-821a0e622363"
      },
      "execution_count": null,
      "outputs": [
        {
          "output_type": "execute_result",
          "data": {
            "text/plain": [
              "array([0.89808962, 0.86411072, 0.2607989 , 0.72555188, 0.2871014 ])"
            ]
          },
          "metadata": {},
          "execution_count": 39
        }
      ]
    },
    {
      "cell_type": "code",
      "source": [
        "def neuron(features):\n",
        "    weights = np.random.uniform(size=len(features))\n",
        "    b = np.random.uniform()\n",
        "    y = 0\n",
        "    for i in range(len(features)):\n",
        "        y = y + features[i] * weights[i]\n",
        "\n",
        "    y = y + b\n",
        "\n",
        "    return y"
      ],
      "metadata": {
        "id": "dAjcFyPDujMs"
      },
      "execution_count": null,
      "outputs": []
    },
    {
      "cell_type": "code",
      "source": [
        "neuron([1, 1, 1, 1, 1])"
      ],
      "metadata": {
        "colab": {
          "base_uri": "https://localhost:8080/"
        },
        "id": "Yl3xU9K8xxYk",
        "outputId": "546f7831-2aef-4dc5-b9aa-b4b9a8431220"
      },
      "execution_count": null,
      "outputs": [
        {
          "output_type": "execute_result",
          "data": {
            "text/plain": [
              "4.632574997868636"
            ]
          },
          "metadata": {},
          "execution_count": 41
        }
      ]
    },
    {
      "cell_type": "code",
      "source": [
        "neuron([1, 1, 1, 1, 1, 1, 1, 1, 1, 1, 1, 1])"
      ],
      "metadata": {
        "colab": {
          "base_uri": "https://localhost:8080/"
        },
        "id": "Z-LXJ3EdymV5",
        "outputId": "62bedbdc-05b4-4e6a-d317-4f09e4ca79b6"
      },
      "execution_count": null,
      "outputs": [
        {
          "output_type": "execute_result",
          "data": {
            "text/plain": [
              "5.220568295712636"
            ]
          },
          "metadata": {},
          "execution_count": 42
        }
      ]
    },
    {
      "cell_type": "code",
      "source": [
        "def loss(y, y_hat):\n",
        "  return np.abs(y-y_hat)"
      ],
      "metadata": {
        "id": "7KHjLbTnIm9X"
      },
      "execution_count": null,
      "outputs": []
    },
    {
      "cell_type": "code",
      "source": [
        "neuron(x1)"
      ],
      "metadata": {
        "colab": {
          "base_uri": "https://localhost:8080/"
        },
        "id": "YtH_p3ACIxxi",
        "outputId": "eaba6107-0289-4858-e07f-e99201d785e5"
      },
      "execution_count": null,
      "outputs": [
        {
          "output_type": "execute_result",
          "data": {
            "text/plain": [
              "1.221933036880913"
            ]
          },
          "metadata": {},
          "execution_count": 44
        }
      ]
    },
    {
      "cell_type": "code",
      "source": [
        "y1"
      ],
      "metadata": {
        "colab": {
          "base_uri": "https://localhost:8080/"
        },
        "id": "Zqif5pGWJBF_",
        "outputId": "5e6dd881-e25d-4f37-9792-cd25a7d25152"
      },
      "execution_count": null,
      "outputs": [
        {
          "output_type": "execute_result",
          "data": {
            "text/plain": [
              "0"
            ]
          },
          "metadata": {},
          "execution_count": 45
        }
      ]
    },
    {
      "cell_type": "code",
      "source": [
        "neuron(x2) # this the neuron predict"
      ],
      "metadata": {
        "colab": {
          "base_uri": "https://localhost:8080/"
        },
        "id": "Kh0mr8W7JPG8",
        "outputId": "cff9ebf5-0332-4e95-b886-d5adf6e0a438"
      },
      "execution_count": null,
      "outputs": [
        {
          "output_type": "execute_result",
          "data": {
            "text/plain": [
              "1.6914749205863644"
            ]
          },
          "metadata": {},
          "execution_count": 46
        }
      ]
    },
    {
      "cell_type": "code",
      "source": [
        "y2 # this is a real then we can use loss function"
      ],
      "metadata": {
        "colab": {
          "base_uri": "https://localhost:8080/"
        },
        "id": "-EZPUt32JS7z",
        "outputId": "28b51cb6-1af9-4e5c-e25f-4817aa5ef911"
      },
      "execution_count": null,
      "outputs": [
        {
          "output_type": "execute_result",
          "data": {
            "text/plain": [
              "0"
            ]
          },
          "metadata": {},
          "execution_count": 47
        }
      ]
    },
    {
      "cell_type": "code",
      "source": [
        "loss(y2, neuron(x2))"
      ],
      "metadata": {
        "colab": {
          "base_uri": "https://localhost:8080/"
        },
        "id": "nHYGg_3AJUCI",
        "outputId": "b7dae440-e0e6-41fa-c1ba-f049d3cfbd32"
      },
      "execution_count": null,
      "outputs": [
        {
          "output_type": "execute_result",
          "data": {
            "text/plain": [
              "2.5665556421395213"
            ]
          },
          "metadata": {},
          "execution_count": 48
        }
      ]
    },
    {
      "cell_type": "code",
      "source": [
        "# about of the definition neuron the amoubt of x1 is random and for every time is diffrent we should to define class"
      ],
      "metadata": {
        "id": "eBrTSTruK7SC"
      },
      "execution_count": null,
      "outputs": []
    },
    {
      "cell_type": "code",
      "source": [
        "class Neuron:\n",
        "  def __init__(self):\n",
        "    pass\n",
        "  def func1(self):\n",
        "    pass\n",
        "  def func2(self):\n",
        "    pass"
      ],
      "metadata": {
        "id": "UfYKzRfMLrFE"
      },
      "execution_count": null,
      "outputs": []
    },
    {
      "cell_type": "code",
      "source": [
        "# we want to get a sample from oye Neuron class\n",
        "n1 = Neuron()"
      ],
      "metadata": {
        "id": "jnFCEKL3N_1n"
      },
      "execution_count": null,
      "outputs": []
    },
    {
      "cell_type": "code",
      "source": [
        "n1"
      ],
      "metadata": {
        "colab": {
          "base_uri": "https://localhost:8080/"
        },
        "id": "8p3XprycOH1B",
        "outputId": "e9abc60d-9c74-44b8-a400-8cbf559ec627"
      },
      "execution_count": null,
      "outputs": [
        {
          "output_type": "execute_result",
          "data": {
            "text/plain": [
              "<__main__.Neuron at 0x7dc50e460be0>"
            ]
          },
          "metadata": {},
          "execution_count": 52
        }
      ]
    },
    {
      "cell_type": "code",
      "source": [
        "class Neuron:\n",
        "  def __init__(self):\n",
        "    print(\"init must be called\")\n",
        "  def func1(self):\n",
        "    print(\"finc1\")\n",
        "  def func2(self):\n",
        "    print('func2')"
      ],
      "metadata": {
        "id": "ycbgI1J6OVUp"
      },
      "execution_count": null,
      "outputs": []
    },
    {
      "cell_type": "code",
      "source": [
        "n1 = Neuron()# all things in init will be print"
      ],
      "metadata": {
        "colab": {
          "base_uri": "https://localhost:8080/"
        },
        "id": "vbpclQ3kPPN2",
        "outputId": "be574aca-4c93-417b-c658-63c835f27bbc"
      },
      "execution_count": null,
      "outputs": [
        {
          "output_type": "stream",
          "name": "stdout",
          "text": [
            "init must be called\n"
          ]
        }
      ]
    },
    {
      "cell_type": "code",
      "source": [
        "n1.func1() # all things in func1 will be print"
      ],
      "metadata": {
        "colab": {
          "base_uri": "https://localhost:8080/"
        },
        "id": "X9JF7yCGO7vT",
        "outputId": "1a80d13c-f3bb-4746-9da4-9b092ca19307"
      },
      "execution_count": null,
      "outputs": [
        {
          "output_type": "stream",
          "name": "stdout",
          "text": [
            "finc1\n"
          ]
        }
      ]
    },
    {
      "cell_type": "code",
      "source": [
        "n1.func2()"
      ],
      "metadata": {
        "colab": {
          "base_uri": "https://localhost:8080/"
        },
        "id": "VvzIrHpUPAT6",
        "outputId": "179e471e-7d47-4f22-89de-3d74ff10fa0a"
      },
      "execution_count": null,
      "outputs": [
        {
          "output_type": "stream",
          "name": "stdout",
          "text": [
            "func2\n"
          ]
        }
      ]
    },
    {
      "cell_type": "code",
      "source": [
        "class Neuron:\n",
        "  def __init__(self):\n",
        "    a=1\n",
        "    self.b=3\n",
        "    print(\"init must be called\")\n",
        "  def func1(self):\n",
        "    print(\"finc1 and a is :\", a)\n",
        "  def func2(self):\n",
        "    a=2\n",
        "    print(\"func2 and b is :\", self.b)"
      ],
      "metadata": {
        "id": "hFK1hQaqPuOW"
      },
      "execution_count": null,
      "outputs": []
    },
    {
      "cell_type": "code",
      "source": [
        "n1 = Neuron() # we must at the first make a object after the creat class"
      ],
      "metadata": {
        "colab": {
          "base_uri": "https://localhost:8080/"
        },
        "id": "FZm-POM5eng1",
        "outputId": "aea9471c-d70a-4b24-e664-11a3024e8e7a"
      },
      "execution_count": null,
      "outputs": [
        {
          "output_type": "stream",
          "name": "stdout",
          "text": [
            "init must be called\n"
          ]
        }
      ]
    },
    {
      "cell_type": "code",
      "source": [
        "n1.func2()"
      ],
      "metadata": {
        "colab": {
          "base_uri": "https://localhost:8080/"
        },
        "id": "VpT_xZf0Rzh3",
        "outputId": "18859d44-5d5e-448b-afb1-060c4c5d4e2c"
      },
      "execution_count": null,
      "outputs": [
        {
          "output_type": "stream",
          "name": "stdout",
          "text": [
            "func2 and b is : 3\n"
          ]
        }
      ]
    },
    {
      "cell_type": "code",
      "source": [
        "class Neuron:\n",
        "    def __init__(self, num_features=1):\n",
        "        self.weights = np.random.uniform(size=num_features)\n",
        "        self.b = np.random.uniform()\n",
        "\n",
        "    def calculate(self, features):\n",
        "        y = 0\n",
        "        for i in range(len(features)):\n",
        "            y = y + features[i] * self.weights[i]\n",
        "\n",
        "        y = y + self.b\n",
        "\n",
        "        return y"
      ],
      "metadata": {
        "id": "IJdh3avSeqim"
      },
      "execution_count": null,
      "outputs": []
    },
    {
      "cell_type": "code",
      "source": [
        "n1 = Neuron()"
      ],
      "metadata": {
        "id": "XYf--NV1eqpd"
      },
      "execution_count": null,
      "outputs": []
    },
    {
      "cell_type": "code",
      "source": [
        "n1.weights, n1.b"
      ],
      "metadata": {
        "colab": {
          "base_uri": "https://localhost:8080/"
        },
        "id": "4YFGvqgwQ1ll",
        "outputId": "b0350294-b0d4-4dbe-809e-04d2eba3bd90"
      },
      "execution_count": null,
      "outputs": [
        {
          "output_type": "execute_result",
          "data": {
            "text/plain": [
              "(array([0.33329631]), 0.1653076480817387)"
            ]
          },
          "metadata": {},
          "execution_count": 62
        }
      ]
    },
    {
      "cell_type": "code",
      "source": [
        "n1.calculate(features=[1])"
      ],
      "metadata": {
        "colab": {
          "base_uri": "https://localhost:8080/"
        },
        "id": "oT90ARkrQ4Nu",
        "outputId": "5d1f4ae8-3a18-4b72-ccbc-5e607942a2e7"
      },
      "execution_count": null,
      "outputs": [
        {
          "output_type": "execute_result",
          "data": {
            "text/plain": [
              "0.4986039593752025"
            ]
          },
          "metadata": {},
          "execution_count": 63
        }
      ]
    },
    {
      "cell_type": "code",
      "source": [
        "n1 = Neuron(num_features=3)"
      ],
      "metadata": {
        "id": "tHhOE_7qRgRM"
      },
      "execution_count": null,
      "outputs": []
    },
    {
      "cell_type": "code",
      "source": [
        "n1.weights, n1.b"
      ],
      "metadata": {
        "colab": {
          "base_uri": "https://localhost:8080/"
        },
        "id": "Mf621Ktoh29e",
        "outputId": "90382c59-9f21-4723-a8e0-1604786d5794"
      },
      "execution_count": null,
      "outputs": [
        {
          "output_type": "execute_result",
          "data": {
            "text/plain": [
              "(array([0.03547749, 0.30871869, 0.82130482]), 0.3469448387985049)"
            ]
          },
          "metadata": {},
          "execution_count": 65
        }
      ]
    },
    {
      "cell_type": "code",
      "source": [
        "n1.calculate(x1)"
      ],
      "metadata": {
        "colab": {
          "base_uri": "https://localhost:8080/"
        },
        "id": "OAaaDg8xh9NZ",
        "outputId": "1bda277e-f238-425e-c359-c4a53d1d6d46"
      },
      "execution_count": null,
      "outputs": [
        {
          "output_type": "execute_result",
          "data": {
            "text/plain": [
              "0.3824223267056306"
            ]
          },
          "metadata": {},
          "execution_count": 66
        }
      ]
    },
    {
      "cell_type": "code",
      "source": [
        "loss(n1.calculate(x1), y1)"
      ],
      "metadata": {
        "colab": {
          "base_uri": "https://localhost:8080/"
        },
        "id": "udkQCvNliGHH",
        "outputId": "7d7ec009-5a42-418d-9431-36b9f6840c72"
      },
      "execution_count": null,
      "outputs": [
        {
          "output_type": "execute_result",
          "data": {
            "text/plain": [
              "0.3824223267056306"
            ]
          },
          "metadata": {},
          "execution_count": 67
        }
      ]
    },
    {
      "cell_type": "code",
      "source": [
        "loss(n1.calculate(x2), y2)"
      ],
      "metadata": {
        "colab": {
          "base_uri": "https://localhost:8080/"
        },
        "id": "Y6pFGecqimRj",
        "outputId": "4cc1476b-95dc-44fb-e2d2-f0694055d740"
      },
      "execution_count": null,
      "outputs": [
        {
          "output_type": "execute_result",
          "data": {
            "text/plain": [
              "0.691141011818414"
            ]
          },
          "metadata": {},
          "execution_count": 68
        }
      ]
    },
    {
      "cell_type": "code",
      "source": [
        "loss(n1.calculate(x3), y3)"
      ],
      "metadata": {
        "colab": {
          "base_uri": "https://localhost:8080/"
        },
        "id": "B-3HMMpiivfo",
        "outputId": "373594d3-b468-4b63-ad7a-375156c23588"
      },
      "execution_count": null,
      "outputs": [
        {
          "output_type": "execute_result",
          "data": {
            "text/plain": [
              "1.2037271515687855"
            ]
          },
          "metadata": {},
          "execution_count": 69
        }
      ]
    },
    {
      "cell_type": "code",
      "source": [
        "loss(n1.calculate(x4), y4)"
      ],
      "metadata": {
        "colab": {
          "base_uri": "https://localhost:8080/"
        },
        "id": "9A4FnSVXix9s",
        "outputId": "96311363-47c9-443d-ce73-86fad3a25b3e"
      },
      "execution_count": null,
      "outputs": [
        {
          "output_type": "execute_result",
          "data": {
            "text/plain": [
              "0.30885898818158597"
            ]
          },
          "metadata": {},
          "execution_count": 70
        }
      ]
    },
    {
      "cell_type": "code",
      "source": [
        "# the best nuuron is loss function is minimum is mean is we give a rntrance Neuron predict minimum is mean the real zero or close to zero\n",
        "# what we do the loss minimum?"
      ],
      "metadata": {
        "id": "2kwBRHgPi4SB"
      },
      "execution_count": null,
      "outputs": []
    },
    {
      "cell_type": "code",
      "source": [
        "# Gradient Descent\n",
        "def grad(f, x , delta_x=0.000000001):\n",
        "    return (f(x + delta_x) - f(x))/delta_x\n",
        "\n",
        "def gradient_descent(x, f, alpha=0.1):\n",
        "    return x - alpha * grad(f, x)"
      ],
      "metadata": {
        "id": "eCJoJqNmjcY0"
      },
      "execution_count": null,
      "outputs": []
    },
    {
      "cell_type": "code",
      "source": [
        "# Dataset\n",
        "x0, y0 = [0, 0, 0], 0\n",
        "x1, y1 = [1, 0, 0], 0\n",
        "x2, y2 = [0, 1, 0], 0\n",
        "x3, y3 = [0, 0, 1], 0\n",
        "x4, y4 = [1, 1, 0], 1\n",
        "x5, y5 = [0, 1, 1], 1\n",
        "x6, y6 = [1, 1, 1], 1"
      ],
      "metadata": {
        "id": "G3jHK8taneIU"
      },
      "execution_count": null,
      "outputs": []
    },
    {
      "cell_type": "code",
      "source": [
        "def neuron(features):\n",
        "    weights = [1, 0, 0]\n",
        "    b = 0\n",
        "    y = 0\n",
        "    for i in range(len(features)):\n",
        "        y = y + features[i] * weights[i]\n",
        "\n",
        "    y = y + b\n",
        "\n",
        "    return y"
      ],
      "metadata": {
        "id": "E9QBaiYpngaw"
      },
      "execution_count": null,
      "outputs": []
    },
    {
      "cell_type": "code",
      "source": [
        "neuron(x5)"
      ],
      "metadata": {
        "colab": {
          "base_uri": "https://localhost:8080/"
        },
        "id": "AawIUtpgnrcj",
        "outputId": "49371063-a05f-4435-d0bb-872c15ef3e30"
      },
      "execution_count": null,
      "outputs": [
        {
          "output_type": "execute_result",
          "data": {
            "text/plain": [
              "0"
            ]
          },
          "metadata": {},
          "execution_count": 75
        }
      ]
    },
    {
      "cell_type": "code",
      "source": [],
      "metadata": {
        "id": "wHAPsoTcnvMa"
      },
      "execution_count": null,
      "outputs": []
    },
    {
      "cell_type": "markdown",
      "source": [
        "# Optimization On Neuron:"
      ],
      "metadata": {
        "id": "_QrQY3Q8n1RJ"
      }
    },
    {
      "cell_type": "code",
      "source": [
        "# Gradient Descent for Neuron\n",
        "def grad(l, w , delta_w=0.000000001):\n",
        "    return (l(w + delta_w) - l(w))/delta_w\n",
        "\n",
        "def gradient_descent(w, l, alpha=0.1):\n",
        "    return w - alpha * grad(l, w)"
      ],
      "metadata": {
        "id": "lcxpCBrbn-FW"
      },
      "execution_count": null,
      "outputs": []
    },
    {
      "cell_type": "code",
      "source": [
        "n1 = Neuron(num_features=3)"
      ],
      "metadata": {
        "id": "TxxZ40awoB3V"
      },
      "execution_count": null,
      "outputs": []
    },
    {
      "cell_type": "code",
      "source": [
        "def loss(w):\n",
        "  n1.wights = w\n",
        "  y_hat = n1.calculate(x1)\n",
        "  return np.abs(y_hat-y)"
      ],
      "metadata": {
        "id": "DbfkEohioND_"
      },
      "execution_count": null,
      "outputs": []
    },
    {
      "cell_type": "code",
      "source": [
        "loss(n1.weights) #this is the old loss"
      ],
      "metadata": {
        "colab": {
          "base_uri": "https://localhost:8080/"
        },
        "id": "-YGIj5uApmUu",
        "outputId": "263a2f85-df58-464c-a5af-2ee02883b083"
      },
      "execution_count": null,
      "outputs": [
        {
          "output_type": "execute_result",
          "data": {
            "text/plain": [
              "5.916311103747001"
            ]
          },
          "metadata": {},
          "execution_count": 79
        }
      ]
    },
    {
      "cell_type": "code",
      "source": [
        "grad(l=loss, w=n1.weights)"
      ],
      "metadata": {
        "colab": {
          "base_uri": "https://localhost:8080/"
        },
        "id": "xw3u5ie_pzoR",
        "outputId": "d72f7ef5-6381-4608-8bff-64faa210277d"
      },
      "execution_count": null,
      "outputs": [
        {
          "output_type": "execute_result",
          "data": {
            "text/plain": [
              "0.0"
            ]
          },
          "metadata": {},
          "execution_count": 80
        }
      ]
    },
    {
      "cell_type": "code",
      "source": [
        "gradient_descent(w=n1.weights, l=loss)  # these are the new weights"
      ],
      "metadata": {
        "colab": {
          "base_uri": "https://localhost:8080/"
        },
        "id": "aPIb_ZAmqg-_",
        "outputId": "9867a93c-4c47-4362-d42f-dc025b198581"
      },
      "execution_count": null,
      "outputs": [
        {
          "output_type": "execute_result",
          "data": {
            "text/plain": [
              "array([0.23193083, 0.56327332, 0.82878524])"
            ]
          },
          "metadata": {},
          "execution_count": 81
        }
      ]
    },
    {
      "cell_type": "code",
      "source": [
        "# w_new = gradient_descent(w=n1.weights, l=loss)\n",
        "gradient_descent(w=n1.weights, l=loss)"
      ],
      "metadata": {
        "colab": {
          "base_uri": "https://localhost:8080/"
        },
        "id": "xzBeVtO_q4Ef",
        "outputId": "a07f104a-c433-4039-c08e-1694dd681d46"
      },
      "execution_count": null,
      "outputs": [
        {
          "output_type": "execute_result",
          "data": {
            "text/plain": [
              "array([0.23193083, 0.56327332, 0.82878524])"
            ]
          },
          "metadata": {},
          "execution_count": 82
        }
      ]
    },
    {
      "cell_type": "code",
      "source": [
        "n1.weights"
      ],
      "metadata": {
        "colab": {
          "base_uri": "https://localhost:8080/"
        },
        "id": "EIsZ97-Hr8pB",
        "outputId": "7a9491fa-9309-49be-df37-cc9ede514013"
      },
      "execution_count": null,
      "outputs": [
        {
          "output_type": "execute_result",
          "data": {
            "text/plain": [
              "array([0.23193083, 0.56327332, 0.82878524])"
            ]
          },
          "metadata": {},
          "execution_count": 83
        }
      ]
    },
    {
      "cell_type": "code",
      "source": [
        "# n1.weights = w_new\n",
        "w_new = gradient_descent(w=n1.weights, l=loss)"
      ],
      "metadata": {
        "id": "oFC9_FqrrDvm"
      },
      "execution_count": null,
      "outputs": []
    },
    {
      "cell_type": "code",
      "source": [
        "n1.weights=w_new"
      ],
      "metadata": {
        "id": "5lTlfKFEsHKg"
      },
      "execution_count": null,
      "outputs": []
    },
    {
      "cell_type": "code",
      "source": [
        "# loss(n1.weights) #this is the new loss\n",
        "loss(n1.weights) # we will be close first step to ideal loss"
      ],
      "metadata": {
        "colab": {
          "base_uri": "https://localhost:8080/"
        },
        "id": "-wY88mgVrKiI",
        "outputId": "3c8971f4-7283-44bc-ad9b-b0a6a12eb4fd"
      },
      "execution_count": null,
      "outputs": [
        {
          "output_type": "execute_result",
          "data": {
            "text/plain": [
              "5.916311103747001"
            ]
          },
          "metadata": {},
          "execution_count": 86
        }
      ]
    },
    {
      "cell_type": "code",
      "source": [
        "# we do optomization on weight and our goal is decreas loss function"
      ],
      "metadata": {
        "id": "h_SiB_MjrXHi"
      },
      "execution_count": null,
      "outputs": []
    },
    {
      "cell_type": "code",
      "source": [
        "# LIST od Activation :\n",
        "import numpy as np\n",
        "class Activation:\n",
        "    def __init__(self):\n",
        "        pass\n",
        "\n",
        "    def linear(self, x):\n",
        "        return x\n",
        "\n",
        "    def binary(self, x):\n",
        "        if x > 0:\n",
        "            return 1\n",
        "\n",
        "        if x <=0 :\n",
        "            return 0\n",
        "\n",
        "    def sigmoid(self, x):\n",
        "        return 1/(1 + np.exp(-x))\n",
        "\n",
        "    def tanh(self, x):\n",
        "        return (np.exp(x)-np.exp(-x))/(np.exp(x)+np.exp(-x))\n",
        "\n",
        "    def relu(self, x):\n",
        "        return np.max([x,0])"
      ],
      "metadata": {
        "id": "CfZYvcfII5xl"
      },
      "execution_count": null,
      "outputs": []
    },
    {
      "cell_type": "code",
      "source": [
        "act = Activation()"
      ],
      "metadata": {
        "id": "SwU0-QJER2aD"
      },
      "execution_count": null,
      "outputs": []
    },
    {
      "cell_type": "code",
      "source": [
        "act.linear(10)"
      ],
      "metadata": {
        "colab": {
          "base_uri": "https://localhost:8080/"
        },
        "id": "jVLPRqJsSZQ5",
        "outputId": "9ce1f03d-256c-4aa4-a1ec-3b1713ab1d21"
      },
      "execution_count": null,
      "outputs": [
        {
          "output_type": "execute_result",
          "data": {
            "text/plain": [
              "10"
            ]
          },
          "metadata": {},
          "execution_count": 90
        }
      ]
    },
    {
      "cell_type": "code",
      "source": [
        "act.linear(300)"
      ],
      "metadata": {
        "colab": {
          "base_uri": "https://localhost:8080/"
        },
        "id": "0sh3BkPkSddb",
        "outputId": "f5b5dd7e-8088-4f01-d9e4-6a59c939d9ce"
      },
      "execution_count": null,
      "outputs": [
        {
          "output_type": "execute_result",
          "data": {
            "text/plain": [
              "300"
            ]
          },
          "metadata": {},
          "execution_count": 91
        }
      ]
    },
    {
      "cell_type": "code",
      "source": [
        "act.binary(-10)"
      ],
      "metadata": {
        "colab": {
          "base_uri": "https://localhost:8080/"
        },
        "id": "JDQcDW-QSgsA",
        "outputId": "37aa7b39-3aa2-45b8-c757-d58a427c929a"
      },
      "execution_count": null,
      "outputs": [
        {
          "output_type": "execute_result",
          "data": {
            "text/plain": [
              "0"
            ]
          },
          "metadata": {},
          "execution_count": 92
        }
      ]
    },
    {
      "cell_type": "code",
      "source": [
        "act.binary(0)"
      ],
      "metadata": {
        "colab": {
          "base_uri": "https://localhost:8080/"
        },
        "id": "oI0kwx8TTQSf",
        "outputId": "7b8678e7-5ff4-4d02-f609-8b0a72c79ce1"
      },
      "execution_count": null,
      "outputs": [
        {
          "output_type": "execute_result",
          "data": {
            "text/plain": [
              "0"
            ]
          },
          "metadata": {},
          "execution_count": 93
        }
      ]
    },
    {
      "cell_type": "code",
      "source": [
        "act.sigmoid(10)"
      ],
      "metadata": {
        "colab": {
          "base_uri": "https://localhost:8080/"
        },
        "id": "T8nwKEabUe7H",
        "outputId": "f47e10d8-7ace-46bc-c004-f29f20a73b4a"
      },
      "execution_count": null,
      "outputs": [
        {
          "output_type": "execute_result",
          "data": {
            "text/plain": [
              "0.9999546021312976"
            ]
          },
          "metadata": {},
          "execution_count": 94
        }
      ]
    },
    {
      "cell_type": "code",
      "source": [
        "act.sigmoid(-3)"
      ],
      "metadata": {
        "colab": {
          "base_uri": "https://localhost:8080/"
        },
        "id": "3eGenadqVNqL",
        "outputId": "438bf421-dfb9-49d1-a91b-35f69d6f280d"
      },
      "execution_count": null,
      "outputs": [
        {
          "output_type": "execute_result",
          "data": {
            "text/plain": [
              "0.04742587317756678"
            ]
          },
          "metadata": {},
          "execution_count": 95
        }
      ]
    },
    {
      "cell_type": "code",
      "source": [
        "act.tanh(0)"
      ],
      "metadata": {
        "colab": {
          "base_uri": "https://localhost:8080/"
        },
        "id": "nVVpyAFOVQaG",
        "outputId": "3620797e-7d5c-480a-b7b6-b47f60463f13"
      },
      "execution_count": null,
      "outputs": [
        {
          "output_type": "execute_result",
          "data": {
            "text/plain": [
              "0.0"
            ]
          },
          "metadata": {},
          "execution_count": 96
        }
      ]
    },
    {
      "cell_type": "code",
      "source": [
        "act.tanh(67)"
      ],
      "metadata": {
        "colab": {
          "base_uri": "https://localhost:8080/"
        },
        "id": "4TzSWXfTVUVO",
        "outputId": "03e66e89-2407-4b27-e67e-9801f3142be4"
      },
      "execution_count": null,
      "outputs": [
        {
          "output_type": "execute_result",
          "data": {
            "text/plain": [
              "1.0"
            ]
          },
          "metadata": {},
          "execution_count": 97
        }
      ]
    },
    {
      "cell_type": "code",
      "source": [
        "act.relu(80)"
      ],
      "metadata": {
        "colab": {
          "base_uri": "https://localhost:8080/"
        },
        "id": "1NTdmixaVdTu",
        "outputId": "605ad4dd-bf4b-4f8c-e6cd-aa16c147a095"
      },
      "execution_count": null,
      "outputs": [
        {
          "output_type": "execute_result",
          "data": {
            "text/plain": [
              "80"
            ]
          },
          "metadata": {},
          "execution_count": 98
        }
      ]
    },
    {
      "cell_type": "code",
      "source": [
        "act.relu(563)"
      ],
      "metadata": {
        "colab": {
          "base_uri": "https://localhost:8080/"
        },
        "id": "r0Ub4Z9oVt9T",
        "outputId": "6a91ae38-f1b9-4e85-c084-b0342e8a0f90"
      },
      "execution_count": null,
      "outputs": [
        {
          "output_type": "execute_result",
          "data": {
            "text/plain": [
              "563"
            ]
          },
          "metadata": {},
          "execution_count": 99
        }
      ]
    },
    {
      "cell_type": "code",
      "source": [
        "# we want to make Neuron Layer: we put some Neuron together (Multi Layer Perceptoron)\n",
        "class Neuron:\n",
        "    def __init__(self, num_features=1):\n",
        "        self.weights = np.random.uniform(size=num_features)\n",
        "        self.b = np.random.uniform()\n",
        "\n",
        "    def calculate(self, features):\n",
        "        y = 0\n",
        "        for i in range(len(features)):\n",
        "            y = y + features[i] * self.weights[i]\n",
        "\n",
        "        y = y + self.b\n",
        "\n",
        "        return y"
      ],
      "metadata": {
        "id": "-SGDxIs5VxOp"
      },
      "execution_count": null,
      "outputs": []
    },
    {
      "cell_type": "code",
      "source": [
        "n1=Neuron(num_features=3)\n",
        "n2=Neuron(num_features=3)"
      ],
      "metadata": {
        "id": "0MtL4iBfYlSk"
      },
      "execution_count": null,
      "outputs": []
    },
    {
      "cell_type": "code",
      "source": [
        "n1.calculate([1,2,3])"
      ],
      "metadata": {
        "colab": {
          "base_uri": "https://localhost:8080/"
        },
        "id": "4PcfYw6uYqFy",
        "outputId": "c11ee4bd-c7a7-4e10-8b2d-53a1a0ab27a2"
      },
      "execution_count": null,
      "outputs": [
        {
          "output_type": "execute_result",
          "data": {
            "text/plain": [
              "4.094816610189268"
            ]
          },
          "metadata": {},
          "execution_count": 102
        }
      ]
    },
    {
      "cell_type": "code",
      "source": [
        "n2.calculate([1,2,3])"
      ],
      "metadata": {
        "colab": {
          "base_uri": "https://localhost:8080/"
        },
        "id": "_FziPKjWYtSb",
        "outputId": "1dca2114-d46b-425c-b5f9-55acbd3f8bdb"
      },
      "execution_count": null,
      "outputs": [
        {
          "output_type": "execute_result",
          "data": {
            "text/plain": [
              "5.498852251497549"
            ]
          },
          "metadata": {},
          "execution_count": 103
        }
      ]
    },
    {
      "cell_type": "code",
      "source": [
        "\n",
        "class layer:\n",
        "    def __init__(self, n_neuron=1, num_features=1):\n",
        "        self.n_neuron = n_neuron\n",
        "        self.num_features = num_features\n",
        "        self.neurons = []\n",
        "        for i in range(self.n_neuron):\n",
        "            neuron = Neuron(num_features=self.num_features)\n",
        "            self.neurons.append(neuron)\n",
        "\n",
        "    def calculate(self, features):\n",
        "        self.outputs = []\n",
        "        for i in range(self.n_neuron):\n",
        "            output = self.neurons[i].calculate(features)\n",
        "            self.outputs.append(output)\n",
        "        return self.outputs"
      ],
      "metadata": {
        "id": "QVO6zFHEYvq6"
      },
      "execution_count": null,
      "outputs": []
    },
    {
      "cell_type": "code",
      "source": [
        "l1 = layer()"
      ],
      "metadata": {
        "id": "AmJmI4jibfUK"
      },
      "execution_count": null,
      "outputs": []
    },
    {
      "cell_type": "code",
      "source": [
        "l1.neurons[0]"
      ],
      "metadata": {
        "colab": {
          "base_uri": "https://localhost:8080/"
        },
        "id": "vFvWTTtFbr16",
        "outputId": "22e9f0bd-992f-4b11-9d4d-6cda634d7823"
      },
      "execution_count": null,
      "outputs": [
        {
          "output_type": "execute_result",
          "data": {
            "text/plain": [
              "<__main__.Neuron at 0x7dc50e471390>"
            ]
          },
          "metadata": {},
          "execution_count": 106
        }
      ]
    },
    {
      "cell_type": "code",
      "source": [
        "l1.neurons[0].weights, l1.neurons[0].b"
      ],
      "metadata": {
        "colab": {
          "base_uri": "https://localhost:8080/"
        },
        "id": "fstGECXOcORB",
        "outputId": "3e5fd5c3-c788-4deb-81c0-8a5e36fbd266"
      },
      "execution_count": null,
      "outputs": [
        {
          "output_type": "execute_result",
          "data": {
            "text/plain": [
              "(array([0.96802618]), 0.6634613768728382)"
            ]
          },
          "metadata": {},
          "execution_count": 107
        }
      ]
    },
    {
      "cell_type": "code",
      "source": [
        "l1.calculate([1])  # it must be equivalent to ======= l1.neurons[0].calculate([1])"
      ],
      "metadata": {
        "colab": {
          "base_uri": "https://localhost:8080/"
        },
        "id": "xS8o0fyhceVZ",
        "outputId": "7d189831-879c-4681-9a73-ace1b9da6e2e"
      },
      "execution_count": null,
      "outputs": [
        {
          "output_type": "execute_result",
          "data": {
            "text/plain": [
              "[1.6314875572355083]"
            ]
          },
          "metadata": {},
          "execution_count": 108
        }
      ]
    },
    {
      "cell_type": "code",
      "source": [
        "l1.neurons[0].calculate([1])"
      ],
      "metadata": {
        "colab": {
          "base_uri": "https://localhost:8080/"
        },
        "id": "4071F_DKcxPk",
        "outputId": "b0258528-e9ea-44e7-8fdc-cf45046d44af"
      },
      "execution_count": null,
      "outputs": [
        {
          "output_type": "execute_result",
          "data": {
            "text/plain": [
              "1.6314875572355083"
            ]
          },
          "metadata": {},
          "execution_count": 109
        }
      ]
    },
    {
      "cell_type": "code",
      "source": [
        "l1 = layer(n_neuron=2)"
      ],
      "metadata": {
        "id": "gbzBp1Hac0Lo"
      },
      "execution_count": null,
      "outputs": []
    },
    {
      "cell_type": "code",
      "source": [
        "l1.calculate([1]) # we have a two output"
      ],
      "metadata": {
        "colab": {
          "base_uri": "https://localhost:8080/"
        },
        "id": "m6HkOer8dguP",
        "outputId": "052b997b-4f21-4161-ac10-db7c3aef8341"
      },
      "execution_count": null,
      "outputs": [
        {
          "output_type": "execute_result",
          "data": {
            "text/plain": [
              "[0.48262372808539256, 0.5912065878897099]"
            ]
          },
          "metadata": {},
          "execution_count": 111
        }
      ]
    },
    {
      "cell_type": "code",
      "source": [
        "l1.neurons # we have a one list and there is a two neuron"
      ],
      "metadata": {
        "colab": {
          "base_uri": "https://localhost:8080/"
        },
        "id": "XZS283-edkN6",
        "outputId": "7e550188-2feb-4b05-9b8d-5beebd48b5cd"
      },
      "execution_count": null,
      "outputs": [
        {
          "output_type": "execute_result",
          "data": {
            "text/plain": [
              "[<__main__.Neuron at 0x7dc50e472d10>, <__main__.Neuron at 0x7dc50e471d20>]"
            ]
          },
          "metadata": {},
          "execution_count": 112
        }
      ]
    },
    {
      "cell_type": "code",
      "source": [
        "l1.neurons[0], l1.neurons[1]"
      ],
      "metadata": {
        "colab": {
          "base_uri": "https://localhost:8080/"
        },
        "id": "_NDKbhY6d7EC",
        "outputId": "067314b7-fa76-4458-9ada-e0b76a4d8150"
      },
      "execution_count": null,
      "outputs": [
        {
          "output_type": "execute_result",
          "data": {
            "text/plain": [
              "(<__main__.Neuron at 0x7dc50e472d10>, <__main__.Neuron at 0x7dc50e471d20>)"
            ]
          },
          "metadata": {},
          "execution_count": 113
        }
      ]
    },
    {
      "cell_type": "code",
      "source": [
        "l1.neurons[0].weights, l1.neurons[1].weights"
      ],
      "metadata": {
        "colab": {
          "base_uri": "https://localhost:8080/"
        },
        "id": "-rL0U-xOeVRL",
        "outputId": "47640fea-9ebf-4e62-a6ab-8197fbc811a6"
      },
      "execution_count": null,
      "outputs": [
        {
          "output_type": "execute_result",
          "data": {
            "text/plain": [
              "(array([0.08433273]), array([0.48355508]))"
            ]
          },
          "metadata": {},
          "execution_count": 114
        }
      ]
    },
    {
      "cell_type": "code",
      "source": [
        "l1.neurons[0].weights, l1.neurons[0].b, l1.neurons[1].weights, l1.neurons[1].b"
      ],
      "metadata": {
        "colab": {
          "base_uri": "https://localhost:8080/"
        },
        "id": "Yd9ktJxXefUD",
        "outputId": "4d6c0020-2378-4391-9020-f191e1fd28a0"
      },
      "execution_count": null,
      "outputs": [
        {
          "output_type": "execute_result",
          "data": {
            "text/plain": [
              "(array([0.08433273]),\n",
              " 0.39829099601366347,\n",
              " array([0.48355508]),\n",
              " 0.10765150879678709)"
            ]
          },
          "metadata": {},
          "execution_count": 115
        }
      ]
    },
    {
      "cell_type": "code",
      "source": [
        "\n",
        "l1 = layer(n_neuron=3, num_features=4) # the number of featuer is not included to output"
      ],
      "metadata": {
        "id": "s4FJKrF8e6XZ"
      },
      "execution_count": null,
      "outputs": []
    },
    {
      "cell_type": "code",
      "source": [
        "l1.calculate([1,2,1,2])"
      ],
      "metadata": {
        "colab": {
          "base_uri": "https://localhost:8080/"
        },
        "id": "A9XeLOgxfd0h",
        "outputId": "91bce08f-3c1a-4804-bfdf-407ad67ccfed"
      },
      "execution_count": null,
      "outputs": [
        {
          "output_type": "execute_result",
          "data": {
            "text/plain": [
              "[4.4321442120061825, 2.460520697665059, 4.404374571624469]"
            ]
          },
          "metadata": {},
          "execution_count": 117
        }
      ]
    },
    {
      "cell_type": "code",
      "source": [
        "l1.calculate([0,0,0,0])"
      ],
      "metadata": {
        "colab": {
          "base_uri": "https://localhost:8080/"
        },
        "id": "etXXcLlGf6XH",
        "outputId": "44ddefd9-7d4d-426b-a6f6-397e0de71e32"
      },
      "execution_count": null,
      "outputs": [
        {
          "output_type": "execute_result",
          "data": {
            "text/plain": [
              "[0.20223920233100012, 0.7978968101687834, 0.44337454030923995]"
            ]
          },
          "metadata": {},
          "execution_count": 118
        }
      ]
    },
    {
      "cell_type": "code",
      "source": [
        "l1.neurons[1].b"
      ],
      "metadata": {
        "colab": {
          "base_uri": "https://localhost:8080/"
        },
        "id": "fjhyIBZPgEBk",
        "outputId": "26d1894e-1278-4bbe-bf24-590322b46222"
      },
      "execution_count": null,
      "outputs": [
        {
          "output_type": "execute_result",
          "data": {
            "text/plain": [
              "0.7978968101687834"
            ]
          },
          "metadata": {},
          "execution_count": 119
        }
      ]
    },
    {
      "cell_type": "code",
      "source": [
        "l1.neurons[2].b # cuse we puy featuers in zero and the result is accrding to baise  and zero and also effect of weight is zero"
      ],
      "metadata": {
        "colab": {
          "base_uri": "https://localhost:8080/"
        },
        "id": "MRuHnaK9gM-h",
        "outputId": "4b4f198f-74a2-4e60-d618-de9cf2eb0513"
      },
      "execution_count": null,
      "outputs": [
        {
          "output_type": "execute_result",
          "data": {
            "text/plain": [
              "0.44337454030923995"
            ]
          },
          "metadata": {},
          "execution_count": 120
        }
      ]
    },
    {
      "cell_type": "code",
      "source": [
        "# why we put Neuron inside together ?\n",
        "# each Neuron represented be one class"
      ],
      "metadata": {
        "id": "uw3dWXTSgSyY"
      },
      "execution_count": null,
      "outputs": []
    },
    {
      "cell_type": "code",
      "source": [
        "out_l1 = l1.calculate([1, 0, 0, 0])"
      ],
      "metadata": {
        "id": "WoRlv7CmPYlM"
      },
      "execution_count": null,
      "outputs": []
    },
    {
      "cell_type": "code",
      "source": [
        "act = Activation()"
      ],
      "metadata": {
        "id": "JPKAhxaZQ76O"
      },
      "execution_count": null,
      "outputs": []
    },
    {
      "cell_type": "code",
      "source": [
        "act.sigmoid(out_l1[0]), act.sigmoid(out_l1[1]), act.sigmoid(out_l1[2])"
      ],
      "metadata": {
        "colab": {
          "base_uri": "https://localhost:8080/"
        },
        "id": "qtyrU3vNRMTD",
        "outputId": "ce93338e-7dba-4da8-a88d-a1f6d1400b83"
      },
      "execution_count": null,
      "outputs": [
        {
          "output_type": "execute_result",
          "data": {
            "text/plain": [
              "(0.6641460326047612, 0.8340025334916299, 0.7600864809346011)"
            ]
          },
          "metadata": {},
          "execution_count": 124
        }
      ]
    },
    {
      "cell_type": "code",
      "source": [
        "l1 = layer(n_neuron = 100, num_features=2000)"
      ],
      "metadata": {
        "id": "ztTDDGJaR2SN"
      },
      "execution_count": null,
      "outputs": []
    },
    {
      "cell_type": "code",
      "source": [
        "l1.neurons"
      ],
      "metadata": {
        "colab": {
          "base_uri": "https://localhost:8080/"
        },
        "id": "nLEph9wJTZaN",
        "outputId": "e11f3365-b1ad-419a-ec77-462e4e0d4ee4"
      },
      "execution_count": null,
      "outputs": [
        {
          "output_type": "execute_result",
          "data": {
            "text/plain": [
              "[<__main__.Neuron at 0x7dc50c2ce0e0>,\n",
              " <__main__.Neuron at 0x7dc50c2ce350>,\n",
              " <__main__.Neuron at 0x7dc50c2ce710>,\n",
              " <__main__.Neuron at 0x7dc50c2ce950>,\n",
              " <__main__.Neuron at 0x7dc50c2ce7a0>,\n",
              " <__main__.Neuron at 0x7dc50c2cdb10>,\n",
              " <__main__.Neuron at 0x7dc50c2ce620>,\n",
              " <__main__.Neuron at 0x7dc50c2ce860>,\n",
              " <__main__.Neuron at 0x7dc50c2ce8c0>,\n",
              " <__main__.Neuron at 0x7dc50c2ce920>,\n",
              " <__main__.Neuron at 0x7dc50c2ce9e0>,\n",
              " <__main__.Neuron at 0x7dc50c2ceaa0>,\n",
              " <__main__.Neuron at 0x7dc50c2ceb00>,\n",
              " <__main__.Neuron at 0x7dc50c2ceb60>,\n",
              " <__main__.Neuron at 0x7dc50c2cebc0>,\n",
              " <__main__.Neuron at 0x7dc50c2cec20>,\n",
              " <__main__.Neuron at 0x7dc50c2cec80>,\n",
              " <__main__.Neuron at 0x7dc50c2cece0>,\n",
              " <__main__.Neuron at 0x7dc50c2ced40>,\n",
              " <__main__.Neuron at 0x7dc50c2ceda0>,\n",
              " <__main__.Neuron at 0x7dc50c2cee00>,\n",
              " <__main__.Neuron at 0x7dc50c2cee60>,\n",
              " <__main__.Neuron at 0x7dc50c2ceec0>,\n",
              " <__main__.Neuron at 0x7dc50c2cef20>,\n",
              " <__main__.Neuron at 0x7dc50c2cef80>,\n",
              " <__main__.Neuron at 0x7dc50c2cefe0>,\n",
              " <__main__.Neuron at 0x7dc50c2cf040>,\n",
              " <__main__.Neuron at 0x7dc50c2cf0a0>,\n",
              " <__main__.Neuron at 0x7dc50c2cf100>,\n",
              " <__main__.Neuron at 0x7dc50c2cf160>,\n",
              " <__main__.Neuron at 0x7dc50c2cf1c0>,\n",
              " <__main__.Neuron at 0x7dc50c2cf220>,\n",
              " <__main__.Neuron at 0x7dc50c2cf280>,\n",
              " <__main__.Neuron at 0x7dc50c2cf2e0>,\n",
              " <__main__.Neuron at 0x7dc50c2cf340>,\n",
              " <__main__.Neuron at 0x7dc50c2cf3a0>,\n",
              " <__main__.Neuron at 0x7dc50c2cf400>,\n",
              " <__main__.Neuron at 0x7dc50c2cf460>,\n",
              " <__main__.Neuron at 0x7dc50c2cf4c0>,\n",
              " <__main__.Neuron at 0x7dc50c2cf520>,\n",
              " <__main__.Neuron at 0x7dc50c2cf580>,\n",
              " <__main__.Neuron at 0x7dc50c2cf5e0>,\n",
              " <__main__.Neuron at 0x7dc50c2cf640>,\n",
              " <__main__.Neuron at 0x7dc50c2cf6a0>,\n",
              " <__main__.Neuron at 0x7dc50c2cf700>,\n",
              " <__main__.Neuron at 0x7dc50c2cf760>,\n",
              " <__main__.Neuron at 0x7dc50c2cf7c0>,\n",
              " <__main__.Neuron at 0x7dc50c2cf820>,\n",
              " <__main__.Neuron at 0x7dc50c2cf880>,\n",
              " <__main__.Neuron at 0x7dc50c2cf8e0>,\n",
              " <__main__.Neuron at 0x7dc50c2cf940>,\n",
              " <__main__.Neuron at 0x7dc50c2cf9a0>,\n",
              " <__main__.Neuron at 0x7dc50c2cfa00>,\n",
              " <__main__.Neuron at 0x7dc50c2cfa60>,\n",
              " <__main__.Neuron at 0x7dc50c2cfac0>,\n",
              " <__main__.Neuron at 0x7dc50c2cfb20>,\n",
              " <__main__.Neuron at 0x7dc50c2cfb80>,\n",
              " <__main__.Neuron at 0x7dc50c2cfbe0>,\n",
              " <__main__.Neuron at 0x7dc50c2cfc40>,\n",
              " <__main__.Neuron at 0x7dc50c2cfca0>,\n",
              " <__main__.Neuron at 0x7dc50c2cfd00>,\n",
              " <__main__.Neuron at 0x7dc50c2cfd60>,\n",
              " <__main__.Neuron at 0x7dc50c2cfdc0>,\n",
              " <__main__.Neuron at 0x7dc50c2cfe20>,\n",
              " <__main__.Neuron at 0x7dc50c2cfe80>,\n",
              " <__main__.Neuron at 0x7dc50c2cfee0>,\n",
              " <__main__.Neuron at 0x7dc50c2cff40>,\n",
              " <__main__.Neuron at 0x7dc50c2cffa0>,\n",
              " <__main__.Neuron at 0x7dc50c2dc040>,\n",
              " <__main__.Neuron at 0x7dc50c2dc0a0>,\n",
              " <__main__.Neuron at 0x7dc50c2dc100>,\n",
              " <__main__.Neuron at 0x7dc50c2dc160>,\n",
              " <__main__.Neuron at 0x7dc50c2dc1c0>,\n",
              " <__main__.Neuron at 0x7dc50c2dc220>,\n",
              " <__main__.Neuron at 0x7dc50c2dc280>,\n",
              " <__main__.Neuron at 0x7dc50c2dc2e0>,\n",
              " <__main__.Neuron at 0x7dc50c2dc340>,\n",
              " <__main__.Neuron at 0x7dc50c2dc3a0>,\n",
              " <__main__.Neuron at 0x7dc50c2dc400>,\n",
              " <__main__.Neuron at 0x7dc50c2dc460>,\n",
              " <__main__.Neuron at 0x7dc50c2dc4c0>,\n",
              " <__main__.Neuron at 0x7dc50c2dc520>,\n",
              " <__main__.Neuron at 0x7dc50c2dc580>,\n",
              " <__main__.Neuron at 0x7dc50c2dc5e0>,\n",
              " <__main__.Neuron at 0x7dc50c2dc640>,\n",
              " <__main__.Neuron at 0x7dc50c2dc6a0>,\n",
              " <__main__.Neuron at 0x7dc50c2dc700>,\n",
              " <__main__.Neuron at 0x7dc50c2dc760>,\n",
              " <__main__.Neuron at 0x7dc50c2dc7c0>,\n",
              " <__main__.Neuron at 0x7dc50c2dc820>,\n",
              " <__main__.Neuron at 0x7dc50c2dc880>,\n",
              " <__main__.Neuron at 0x7dc50c2dc8e0>,\n",
              " <__main__.Neuron at 0x7dc50c2dc940>,\n",
              " <__main__.Neuron at 0x7dc50c2dc9a0>,\n",
              " <__main__.Neuron at 0x7dc50c2dca00>,\n",
              " <__main__.Neuron at 0x7dc50c2dca60>,\n",
              " <__main__.Neuron at 0x7dc50c2dcac0>,\n",
              " <__main__.Neuron at 0x7dc50c2dcb20>,\n",
              " <__main__.Neuron at 0x7dc50c2dcb80>,\n",
              " <__main__.Neuron at 0x7dc50c2dcbe0>]"
            ]
          },
          "metadata": {},
          "execution_count": 126
        }
      ]
    },
    {
      "cell_type": "code",
      "source": [
        "l1.neurons[0].weights"
      ],
      "metadata": {
        "colab": {
          "base_uri": "https://localhost:8080/"
        },
        "id": "SWku1ktgTkLc",
        "outputId": "00b2d1f6-6fe5-4883-b1ab-68d67cc4a2af"
      },
      "execution_count": null,
      "outputs": [
        {
          "output_type": "execute_result",
          "data": {
            "text/plain": [
              "array([0.19649838, 0.19931524, 0.50303978, ..., 0.18341441, 0.64306143,\n",
              "       0.90886561])"
            ]
          },
          "metadata": {},
          "execution_count": 127
        }
      ]
    },
    {
      "cell_type": "code",
      "source": [
        "len(l1.neurons[0].weights)"
      ],
      "metadata": {
        "colab": {
          "base_uri": "https://localhost:8080/"
        },
        "id": "Wzu0NMQrUJie",
        "outputId": "82d4dc6c-c015-48f6-eaba-72ad02184675"
      },
      "execution_count": null,
      "outputs": [
        {
          "output_type": "execute_result",
          "data": {
            "text/plain": [
              "2000"
            ]
          },
          "metadata": {},
          "execution_count": 128
        }
      ]
    },
    {
      "cell_type": "code",
      "source": [
        "# the neurons are calculator and engaged to weights,\n",
        "#our idea is that we had Neurons and we can put together and build layer\n",
        "# now we have layer and we can collect them and put together and build network ans network help us to contorl the featuera space"
      ],
      "metadata": {
        "id": "Jy32kUHVUg59"
      },
      "execution_count": null,
      "outputs": []
    },
    {
      "cell_type": "code",
      "source": [
        "# featuers : 2000 , class : 10"
      ],
      "metadata": {
        "id": "m8iy0J9poycO"
      },
      "execution_count": null,
      "outputs": []
    },
    {
      "cell_type": "code",
      "source": [
        "l1 = layer(n_neuron = 1000, num_features=2000)"
      ],
      "metadata": {
        "id": "xRzWWpkjpcqT"
      },
      "execution_count": null,
      "outputs": []
    },
    {
      "cell_type": "code",
      "source": [
        "l2 = layer(n_neuron = 100, num_features=1000) # n_featuers get the previous amount n_neuron from previous layer"
      ],
      "metadata": {
        "id": "gCJHEVnqp2Lm"
      },
      "execution_count": null,
      "outputs": []
    },
    {
      "cell_type": "code",
      "source": [
        "l3 = layer(n_neuron = 10, num_features=100) # n_featuers get the previous amount n_neuron from previous layer"
      ],
      "metadata": {
        "id": "5RBsjWyhqIpV"
      },
      "execution_count": null,
      "outputs": []
    },
    {
      "cell_type": "code",
      "source": [
        " # it is diffilcult to write every moment for each layer , we van vuild a NETWORK Class"
      ],
      "metadata": {
        "id": "WZQkK07LquI8"
      },
      "execution_count": null,
      "outputs": []
    },
    {
      "cell_type": "code",
      "source": [
        "\n",
        "class MLP:\n",
        "    def __init__(self):\n",
        "        self.layers = []\n",
        "\n",
        "    def add(self, n_neuron=1, num_features=1):\n",
        "        self.n_neuron = n_neuron\n",
        "        self.num_features = num_features\n",
        "        l = layer(n_neuron=self.n_neuron, num_features=self.num_features)\n",
        "        self.layers.append(l)"
      ],
      "metadata": {
        "id": "CtUpbk1VrM8_"
      },
      "execution_count": null,
      "outputs": []
    },
    {
      "cell_type": "code",
      "source": [
        "\n",
        "model = MLP()"
      ],
      "metadata": {
        "id": "j5meZ071uj4Z"
      },
      "execution_count": null,
      "outputs": []
    },
    {
      "cell_type": "code",
      "source": [
        "\n",
        "model.add(n_neuron=2, num_features=3)"
      ],
      "metadata": {
        "id": "zLRgj3F3vQY_"
      },
      "execution_count": null,
      "outputs": []
    },
    {
      "cell_type": "code",
      "source": [
        "model.layers # buit layers"
      ],
      "metadata": {
        "colab": {
          "base_uri": "https://localhost:8080/"
        },
        "id": "IF3tfRmEvsEM",
        "outputId": "4d8065be-f3fa-41cb-fe46-b6f15f3134d0"
      },
      "execution_count": null,
      "outputs": [
        {
          "output_type": "execute_result",
          "data": {
            "text/plain": [
              "[<__main__.layer at 0x7dc50c336680>]"
            ]
          },
          "metadata": {},
          "execution_count": 138
        }
      ]
    },
    {
      "cell_type": "code",
      "source": [
        "model.layers[0].neurons # we must be to hve a two neurons : Neuron at 0x7bc139141450>, <__main__.Neuron at 0x7bc139140610>"
      ],
      "metadata": {
        "colab": {
          "base_uri": "https://localhost:8080/"
        },
        "id": "3_21L_PZxtNa",
        "outputId": "ab0e65b9-3cd3-4eaf-a11e-9916c229154c"
      },
      "execution_count": null,
      "outputs": [
        {
          "output_type": "execute_result",
          "data": {
            "text/plain": [
              "[<__main__.Neuron at 0x7dc50c336500>, <__main__.Neuron at 0x7dc50c3358d0>]"
            ]
          },
          "metadata": {},
          "execution_count": 139
        }
      ]
    },
    {
      "cell_type": "code",
      "source": [
        "# we make another model attention please the amoint of n_featuers take a previous amount of n_neuron"
      ],
      "metadata": {
        "id": "K7oSHZIUx9UU"
      },
      "execution_count": null,
      "outputs": []
    },
    {
      "cell_type": "code",
      "source": [
        "model.add(n_neuron=1, num_features=2)"
      ],
      "metadata": {
        "id": "WaBfxUS2ylZc"
      },
      "execution_count": null,
      "outputs": []
    },
    {
      "cell_type": "code",
      "source": [
        "model.layers"
      ],
      "metadata": {
        "colab": {
          "base_uri": "https://localhost:8080/"
        },
        "id": "dUxtiV15ytaR",
        "outputId": "bb2bb471-c11a-4761-db6c-2893d882acb2"
      },
      "execution_count": null,
      "outputs": [
        {
          "output_type": "execute_result",
          "data": {
            "text/plain": [
              "[<__main__.layer at 0x7dc50c336680>, <__main__.layer at 0x7dc50c334fd0>]"
            ]
          },
          "metadata": {},
          "execution_count": 142
        }
      ]
    },
    {
      "cell_type": "code",
      "source": [
        "l1 = layer(n_neuron = 3, num_features=4)\n",
        "l2 = layer(n_neuron = 1, num_features=3)"
      ],
      "metadata": {
        "id": "OaIiWM3-y2le"
      },
      "execution_count": null,
      "outputs": []
    },
    {
      "cell_type": "code",
      "source": [
        "out_l1 = l1.calculate([0, 1, 0, 1])"
      ],
      "metadata": {
        "id": "UvCYIsXcz2aG"
      },
      "execution_count": null,
      "outputs": []
    },
    {
      "cell_type": "code",
      "source": [
        "out_l1 # we have 3 ouyput because our neuron is 3"
      ],
      "metadata": {
        "colab": {
          "base_uri": "https://localhost:8080/"
        },
        "id": "E2Anhlkd1Dg5",
        "outputId": "0aced039-6274-4920-b091-7f64cd099bf2"
      },
      "execution_count": null,
      "outputs": [
        {
          "output_type": "execute_result",
          "data": {
            "text/plain": [
              "[1.760406169219805, 1.431203019806158, 1.1634297353667777]"
            ]
          },
          "metadata": {},
          "execution_count": 145
        }
      ]
    },
    {
      "cell_type": "code",
      "source": [
        "l2.calculate(out_l1) # the entrnace of l2 is output of l1"
      ],
      "metadata": {
        "colab": {
          "base_uri": "https://localhost:8080/"
        },
        "id": "KVHbMji91_IC",
        "outputId": "9ff470ac-e46b-4272-ee70-fea6d239c893"
      },
      "execution_count": null,
      "outputs": [
        {
          "output_type": "execute_result",
          "data": {
            "text/plain": [
              "[2.717238598681427]"
            ]
          },
          "metadata": {},
          "execution_count": 146
        }
      ]
    },
    {
      "cell_type": "code",
      "source": [
        "\n",
        "class MLP:\n",
        "    def __init__(self):\n",
        "        self.layers = []\n",
        "\n",
        "    def add(self, n_neuron=1, num_features=1):\n",
        "        self.n_neuron = n_neuron\n",
        "        self.num_features = num_features\n",
        "        l = layer(n_neuron=self.n_neuron, num_features=self.num_features)\n",
        "        self.layers.append(l)\n",
        "\n",
        "    def calculate(self, featuers):\n",
        "      self.output = 0\n",
        "      for i in range(len(self.layers)):\n",
        "        self.output = self.layers[i].calculate(featuers)\n",
        "        featuers = self.output\n",
        "\n",
        "      return self.output"
      ],
      "metadata": {
        "id": "B4n5PTHT3X-r"
      },
      "execution_count": null,
      "outputs": []
    },
    {
      "cell_type": "code",
      "source": [
        "model = MLP()"
      ],
      "metadata": {
        "id": "TjpjeJs567hK"
      },
      "execution_count": null,
      "outputs": []
    },
    {
      "cell_type": "code",
      "source": [
        "model.add(5, 10)"
      ],
      "metadata": {
        "id": "BBjLlWiX7TI-"
      },
      "execution_count": null,
      "outputs": []
    },
    {
      "cell_type": "code",
      "source": [
        "model.add(2, 5)"
      ],
      "metadata": {
        "id": "5UBD1Q4x7YoO"
      },
      "execution_count": null,
      "outputs": []
    },
    {
      "cell_type": "code",
      "source": [
        "model.calculate([i for i in range(10)]) # we see affect of activation_function cause the posetive number multiple together and trabsefr to a big number"
      ],
      "metadata": {
        "colab": {
          "base_uri": "https://localhost:8080/"
        },
        "id": "kCfMicWC7cej",
        "outputId": "51f0fddf-32b1-4747-bd3e-94b985756d28"
      },
      "execution_count": null,
      "outputs": [
        {
          "output_type": "execute_result",
          "data": {
            "text/plain": [
              "[45.74108762320835, 38.89945700562409]"
            ]
          },
          "metadata": {},
          "execution_count": 151
        }
      ]
    },
    {
      "cell_type": "code",
      "source": [
        "import numpy as np\n",
        "class Activation:\n",
        "    def __init__(self):\n",
        "        pass\n",
        "\n",
        "    def linear(self, x):\n",
        "        return x\n",
        "\n",
        "    def binary(self, x):\n",
        "        if x > 0:\n",
        "            return 1\n",
        "\n",
        "        if x <=0 :\n",
        "            return 0\n",
        "\n",
        "    def sigmoid(self, x):\n",
        "        self.out = []\n",
        "        for i in range(len(x)):\n",
        "            self.out.append(1/(1 + np.exp(-x[i])))\n",
        "        return self.out\n",
        "\n",
        "    def tanh(self, x):\n",
        "        return (np.exp(x)-np.exp(-x))/(np.exp(x)+np.exp(-x))\n",
        "\n",
        "    def relu(self, x):\n",
        "        return np.max([x,0])"
      ],
      "metadata": {
        "id": "O06FJYbKMWTN"
      },
      "execution_count": null,
      "outputs": []
    },
    {
      "cell_type": "code",
      "source": [
        "class MLP:\n",
        "    def __init__(self, act):\n",
        "        self.layers = []\n",
        "        self.act = act\n",
        "\n",
        "    def add(self, n_neuron=1, num_features=1):\n",
        "        self.n_neuron = n_neuron\n",
        "        self.num_features = num_features\n",
        "        l = layer(n_neuron=self.n_neuron, num_features=self.num_features)\n",
        "        self.layers.append(l)\n",
        "\n",
        "    def calculate(self, features):\n",
        "        self.output = 0\n",
        "        for i in range(len(self.layers)):\n",
        "            self.output = self.layers[i].calculate(features)\n",
        "            self.out_act = self.act(self.output)\n",
        "            features = self.out_act\n",
        "\n",
        "        return features"
      ],
      "metadata": {
        "id": "nuKfk1Uq7rgz"
      },
      "execution_count": null,
      "outputs": []
    },
    {
      "cell_type": "code",
      "source": [
        "act = Activation()\n",
        "model = MLP(act=act.sigmoid)\n",
        "model.add(5, 10)\n",
        "model.add(2, 5)\n",
        "model.calculate([i for i in range(10)]) # this ooutput are probability"
      ],
      "metadata": {
        "id": "LmnXI_029Zc2",
        "colab": {
          "base_uri": "https://localhost:8080/"
        },
        "outputId": "77139b49-19ac-471c-b245-cb0297419fae"
      },
      "execution_count": null,
      "outputs": [
        {
          "output_type": "execute_result",
          "data": {
            "text/plain": [
              "[0.940433970406273, 0.9263010614557667]"
            ]
          },
          "metadata": {},
          "execution_count": 154
        }
      ]
    },
    {
      "cell_type": "code",
      "source": [
        " # but the question is that ;is there frame work have it that the all process we hace manually done with automatocally????\n",
        "   #  YES ........> TensorFlow and Keras and Pytorch ....\n",
        "   # TensorFlow is a Python Package For AI Develop and whose developer wants to work to business field work TenssorFlow"
      ],
      "metadata": {
        "id": "DsbTs2L8JMod"
      },
      "execution_count": null,
      "outputs": []
    },
    {
      "cell_type": "code",
      "source": [
        "import tensorflow # but in another app at first you musy install it: ! pip install tensorflow"
      ],
      "metadata": {
        "id": "qKKFnml3ODh_"
      },
      "execution_count": null,
      "outputs": []
    },
    {
      "cell_type": "code",
      "source": [
        "import tensorflow as tf\n"
      ],
      "metadata": {
        "id": "8DGikis2SkkC"
      },
      "execution_count": null,
      "outputs": []
    },
    {
      "cell_type": "code",
      "source": [
        "from tensorflow.keras.models import Sequential"
      ],
      "metadata": {
        "id": "WY7FykhXUHOc"
      },
      "execution_count": null,
      "outputs": []
    },
    {
      "cell_type": "code",
      "source": [
        "model = Sequential()"
      ],
      "metadata": {
        "id": "uLHc7mDPUkRY"
      },
      "execution_count": null,
      "outputs": []
    },
    {
      "cell_type": "code",
      "source": [
        "from tensorflow.keras.layers import Dense # Dense is the name of layer has a Neuron"
      ],
      "metadata": {
        "id": "_X_0fkmNUycs"
      },
      "execution_count": null,
      "outputs": []
    },
    {
      "cell_type": "code",
      "source": [
        "model.add(Dense(units=5)) # units is the number of layer"
      ],
      "metadata": {
        "id": "WCMAAYmBVN2Q"
      },
      "execution_count": null,
      "outputs": []
    },
    {
      "cell_type": "code",
      "source": [
        "model = Sequential()\n",
        "model.add(Dense(units=5, input_shape=(10, )))  # input_shape =======> the name of the featuers (Neuron, featuers)"
      ],
      "metadata": {
        "id": "OqzmpdVWWC8S"
      },
      "execution_count": null,
      "outputs": []
    },
    {
      "cell_type": "code",
      "source": [
        "model.summary() # this is summaru of our model we made .....Param # ==  10 ta weight 5 ta bias === 55"
      ],
      "metadata": {
        "colab": {
          "base_uri": "https://localhost:8080/"
        },
        "id": "nSLu_Ow6XTNv",
        "outputId": "1a9364d4-bb22-41ff-f110-39341f9aed78"
      },
      "execution_count": null,
      "outputs": [
        {
          "output_type": "stream",
          "name": "stdout",
          "text": [
            "Model: \"sequential_1\"\n",
            "_________________________________________________________________\n",
            " Layer (type)                Output Shape              Param #   \n",
            "=================================================================\n",
            " dense_1 (Dense)             (None, 5)                 55        \n",
            "                                                                 \n",
            "=================================================================\n",
            "Total params: 55 (220.00 Byte)\n",
            "Trainable params: 55 (220.00 Byte)\n",
            "Non-trainable params: 0 (0.00 Byte)\n",
            "_________________________________________________________________\n"
          ]
        }
      ]
    },
    {
      "cell_type": "code",
      "source": [
        "model = Sequential()\n",
        "model.add(Dense(units=5, input_shape=(10, )))\n",
        "model.add(Dense(units=1))"
      ],
      "metadata": {
        "id": "e6gf42mlXxAf"
      },
      "execution_count": null,
      "outputs": []
    },
    {
      "cell_type": "code",
      "source": [
        "model.summary()"
      ],
      "metadata": {
        "colab": {
          "base_uri": "https://localhost:8080/"
        },
        "id": "91cwwk0MY_Hz",
        "outputId": "7689fa25-f0a6-454c-c27d-335dc48d6b7b"
      },
      "execution_count": null,
      "outputs": [
        {
          "output_type": "stream",
          "name": "stdout",
          "text": [
            "Model: \"sequential_2\"\n",
            "_________________________________________________________________\n",
            " Layer (type)                Output Shape              Param #   \n",
            "=================================================================\n",
            " dense_2 (Dense)             (None, 5)                 55        \n",
            "                                                                 \n",
            " dense_3 (Dense)             (None, 1)                 6         \n",
            "                                                                 \n",
            "=================================================================\n",
            "Total params: 61 (244.00 Byte)\n",
            "Trainable params: 61 (244.00 Byte)\n",
            "Non-trainable params: 0 (0.00 Byte)\n",
            "_________________________________________________________________\n"
          ]
        }
      ]
    },
    {
      "cell_type": "code",
      "source": [
        "model = Sequential()\n",
        "model.add(Dense(units=5, activation='linear', input_shape=(10, )))\n",
        "model.add(Dense(units=1, activation='sigmoid')) # Note : Activation is not show to model.summary"
      ],
      "metadata": {
        "id": "fDJsTJVPZDzp"
      },
      "execution_count": null,
      "outputs": []
    },
    {
      "cell_type": "code",
      "source": [
        "model.summary()"
      ],
      "metadata": {
        "colab": {
          "base_uri": "https://localhost:8080/"
        },
        "id": "4GWgpvIGZxZE",
        "outputId": "99413e1c-a610-4d9d-a61e-8488fb1cf175"
      },
      "execution_count": null,
      "outputs": [
        {
          "output_type": "stream",
          "name": "stdout",
          "text": [
            "Model: \"sequential_3\"\n",
            "_________________________________________________________________\n",
            " Layer (type)                Output Shape              Param #   \n",
            "=================================================================\n",
            " dense_4 (Dense)             (None, 5)                 55        \n",
            "                                                                 \n",
            " dense_5 (Dense)             (None, 1)                 6         \n",
            "                                                                 \n",
            "=================================================================\n",
            "Total params: 61 (244.00 Byte)\n",
            "Trainable params: 61 (244.00 Byte)\n",
            "Non-trainable params: 0 (0.00 Byte)\n",
            "_________________________________________________________________\n"
          ]
        }
      ]
    },
    {
      "cell_type": "code",
      "source": [
        "model.get_weights() # is show all of weights have model ........the zero [0., 0., 0., 0., 0.], are biase and these are the featuers [[-0.9111955 ],\n",
        "        # [-0.57338595],\n",
        "        # [-0.16155624],\n",
        "        # [-0.61255145],\n",
        "        # [-0.22413445]]"
      ],
      "metadata": {
        "colab": {
          "base_uri": "https://localhost:8080/"
        },
        "id": "1b28lN36Z-VK",
        "outputId": "b25313ad-4b35-464b-cbfe-81ae396401c5"
      },
      "execution_count": null,
      "outputs": [
        {
          "output_type": "execute_result",
          "data": {
            "text/plain": [
              "[array([[-0.40837833,  0.5542614 , -0.07320148,  0.02592909,  0.19969928],\n",
              "        [ 0.11272544,  0.5828863 ,  0.61621076,  0.35210836,  0.21164525],\n",
              "        [-0.15619072,  0.39647   ,  0.00123072,  0.5453941 , -0.18598348],\n",
              "        [ 0.23686033, -0.41039753, -0.23404166, -0.5445598 ,  0.46490842],\n",
              "        [-0.05252844, -0.50446904,  0.43977576,  0.49482542,  0.12380469],\n",
              "        [-0.25674626,  0.006814  ,  0.27888727, -0.1006341 ,  0.33627427],\n",
              "        [-0.12648857, -0.455045  ,  0.33355933, -0.2503807 ,  0.32476753],\n",
              "        [ 0.16101187, -0.49549735, -0.5305231 ,  0.3841805 , -0.62637734],\n",
              "        [ 0.09746802, -0.4168732 ,  0.3700332 , -0.27952555,  0.10923892],\n",
              "        [-0.23679507, -0.4798376 ,  0.5446785 ,  0.35584623,  0.46245247]],\n",
              "       dtype=float32),\n",
              " array([0., 0., 0., 0., 0.], dtype=float32),\n",
              " array([[-0.78787637],\n",
              "        [ 0.42191672],\n",
              "        [ 0.6776211 ],\n",
              "        [-0.41215515],\n",
              "        [-0.36103058]], dtype=float32),\n",
              " array([0.], dtype=float32)]"
            ]
          },
          "metadata": {},
          "execution_count": 168
        }
      ]
    },
    {
      "cell_type": "code",
      "source": [
        "from sklearn import datasets"
      ],
      "metadata": {
        "id": "NmHuK2a9aRZs"
      },
      "execution_count": null,
      "outputs": []
    },
    {
      "cell_type": "code",
      "source": [
        "iris = datasets.load_iris()"
      ],
      "metadata": {
        "id": "vjfCNOHRbSTi"
      },
      "execution_count": null,
      "outputs": []
    },
    {
      "cell_type": "code",
      "source": [
        "iris # we have 4 featuers rray([[5.1, 3.5, 1.4, 0.2] and also we have 3 label :0 , 1, 2"
      ],
      "metadata": {
        "colab": {
          "base_uri": "https://localhost:8080/"
        },
        "id": "ha5o9KCmbZYx",
        "outputId": "69d9127c-3ec7-4d5d-b0ef-10b817388a04"
      },
      "execution_count": null,
      "outputs": [
        {
          "output_type": "execute_result",
          "data": {
            "text/plain": [
              "{'data': array([[5.1, 3.5, 1.4, 0.2],\n",
              "        [4.9, 3. , 1.4, 0.2],\n",
              "        [4.7, 3.2, 1.3, 0.2],\n",
              "        [4.6, 3.1, 1.5, 0.2],\n",
              "        [5. , 3.6, 1.4, 0.2],\n",
              "        [5.4, 3.9, 1.7, 0.4],\n",
              "        [4.6, 3.4, 1.4, 0.3],\n",
              "        [5. , 3.4, 1.5, 0.2],\n",
              "        [4.4, 2.9, 1.4, 0.2],\n",
              "        [4.9, 3.1, 1.5, 0.1],\n",
              "        [5.4, 3.7, 1.5, 0.2],\n",
              "        [4.8, 3.4, 1.6, 0.2],\n",
              "        [4.8, 3. , 1.4, 0.1],\n",
              "        [4.3, 3. , 1.1, 0.1],\n",
              "        [5.8, 4. , 1.2, 0.2],\n",
              "        [5.7, 4.4, 1.5, 0.4],\n",
              "        [5.4, 3.9, 1.3, 0.4],\n",
              "        [5.1, 3.5, 1.4, 0.3],\n",
              "        [5.7, 3.8, 1.7, 0.3],\n",
              "        [5.1, 3.8, 1.5, 0.3],\n",
              "        [5.4, 3.4, 1.7, 0.2],\n",
              "        [5.1, 3.7, 1.5, 0.4],\n",
              "        [4.6, 3.6, 1. , 0.2],\n",
              "        [5.1, 3.3, 1.7, 0.5],\n",
              "        [4.8, 3.4, 1.9, 0.2],\n",
              "        [5. , 3. , 1.6, 0.2],\n",
              "        [5. , 3.4, 1.6, 0.4],\n",
              "        [5.2, 3.5, 1.5, 0.2],\n",
              "        [5.2, 3.4, 1.4, 0.2],\n",
              "        [4.7, 3.2, 1.6, 0.2],\n",
              "        [4.8, 3.1, 1.6, 0.2],\n",
              "        [5.4, 3.4, 1.5, 0.4],\n",
              "        [5.2, 4.1, 1.5, 0.1],\n",
              "        [5.5, 4.2, 1.4, 0.2],\n",
              "        [4.9, 3.1, 1.5, 0.2],\n",
              "        [5. , 3.2, 1.2, 0.2],\n",
              "        [5.5, 3.5, 1.3, 0.2],\n",
              "        [4.9, 3.6, 1.4, 0.1],\n",
              "        [4.4, 3. , 1.3, 0.2],\n",
              "        [5.1, 3.4, 1.5, 0.2],\n",
              "        [5. , 3.5, 1.3, 0.3],\n",
              "        [4.5, 2.3, 1.3, 0.3],\n",
              "        [4.4, 3.2, 1.3, 0.2],\n",
              "        [5. , 3.5, 1.6, 0.6],\n",
              "        [5.1, 3.8, 1.9, 0.4],\n",
              "        [4.8, 3. , 1.4, 0.3],\n",
              "        [5.1, 3.8, 1.6, 0.2],\n",
              "        [4.6, 3.2, 1.4, 0.2],\n",
              "        [5.3, 3.7, 1.5, 0.2],\n",
              "        [5. , 3.3, 1.4, 0.2],\n",
              "        [7. , 3.2, 4.7, 1.4],\n",
              "        [6.4, 3.2, 4.5, 1.5],\n",
              "        [6.9, 3.1, 4.9, 1.5],\n",
              "        [5.5, 2.3, 4. , 1.3],\n",
              "        [6.5, 2.8, 4.6, 1.5],\n",
              "        [5.7, 2.8, 4.5, 1.3],\n",
              "        [6.3, 3.3, 4.7, 1.6],\n",
              "        [4.9, 2.4, 3.3, 1. ],\n",
              "        [6.6, 2.9, 4.6, 1.3],\n",
              "        [5.2, 2.7, 3.9, 1.4],\n",
              "        [5. , 2. , 3.5, 1. ],\n",
              "        [5.9, 3. , 4.2, 1.5],\n",
              "        [6. , 2.2, 4. , 1. ],\n",
              "        [6.1, 2.9, 4.7, 1.4],\n",
              "        [5.6, 2.9, 3.6, 1.3],\n",
              "        [6.7, 3.1, 4.4, 1.4],\n",
              "        [5.6, 3. , 4.5, 1.5],\n",
              "        [5.8, 2.7, 4.1, 1. ],\n",
              "        [6.2, 2.2, 4.5, 1.5],\n",
              "        [5.6, 2.5, 3.9, 1.1],\n",
              "        [5.9, 3.2, 4.8, 1.8],\n",
              "        [6.1, 2.8, 4. , 1.3],\n",
              "        [6.3, 2.5, 4.9, 1.5],\n",
              "        [6.1, 2.8, 4.7, 1.2],\n",
              "        [6.4, 2.9, 4.3, 1.3],\n",
              "        [6.6, 3. , 4.4, 1.4],\n",
              "        [6.8, 2.8, 4.8, 1.4],\n",
              "        [6.7, 3. , 5. , 1.7],\n",
              "        [6. , 2.9, 4.5, 1.5],\n",
              "        [5.7, 2.6, 3.5, 1. ],\n",
              "        [5.5, 2.4, 3.8, 1.1],\n",
              "        [5.5, 2.4, 3.7, 1. ],\n",
              "        [5.8, 2.7, 3.9, 1.2],\n",
              "        [6. , 2.7, 5.1, 1.6],\n",
              "        [5.4, 3. , 4.5, 1.5],\n",
              "        [6. , 3.4, 4.5, 1.6],\n",
              "        [6.7, 3.1, 4.7, 1.5],\n",
              "        [6.3, 2.3, 4.4, 1.3],\n",
              "        [5.6, 3. , 4.1, 1.3],\n",
              "        [5.5, 2.5, 4. , 1.3],\n",
              "        [5.5, 2.6, 4.4, 1.2],\n",
              "        [6.1, 3. , 4.6, 1.4],\n",
              "        [5.8, 2.6, 4. , 1.2],\n",
              "        [5. , 2.3, 3.3, 1. ],\n",
              "        [5.6, 2.7, 4.2, 1.3],\n",
              "        [5.7, 3. , 4.2, 1.2],\n",
              "        [5.7, 2.9, 4.2, 1.3],\n",
              "        [6.2, 2.9, 4.3, 1.3],\n",
              "        [5.1, 2.5, 3. , 1.1],\n",
              "        [5.7, 2.8, 4.1, 1.3],\n",
              "        [6.3, 3.3, 6. , 2.5],\n",
              "        [5.8, 2.7, 5.1, 1.9],\n",
              "        [7.1, 3. , 5.9, 2.1],\n",
              "        [6.3, 2.9, 5.6, 1.8],\n",
              "        [6.5, 3. , 5.8, 2.2],\n",
              "        [7.6, 3. , 6.6, 2.1],\n",
              "        [4.9, 2.5, 4.5, 1.7],\n",
              "        [7.3, 2.9, 6.3, 1.8],\n",
              "        [6.7, 2.5, 5.8, 1.8],\n",
              "        [7.2, 3.6, 6.1, 2.5],\n",
              "        [6.5, 3.2, 5.1, 2. ],\n",
              "        [6.4, 2.7, 5.3, 1.9],\n",
              "        [6.8, 3. , 5.5, 2.1],\n",
              "        [5.7, 2.5, 5. , 2. ],\n",
              "        [5.8, 2.8, 5.1, 2.4],\n",
              "        [6.4, 3.2, 5.3, 2.3],\n",
              "        [6.5, 3. , 5.5, 1.8],\n",
              "        [7.7, 3.8, 6.7, 2.2],\n",
              "        [7.7, 2.6, 6.9, 2.3],\n",
              "        [6. , 2.2, 5. , 1.5],\n",
              "        [6.9, 3.2, 5.7, 2.3],\n",
              "        [5.6, 2.8, 4.9, 2. ],\n",
              "        [7.7, 2.8, 6.7, 2. ],\n",
              "        [6.3, 2.7, 4.9, 1.8],\n",
              "        [6.7, 3.3, 5.7, 2.1],\n",
              "        [7.2, 3.2, 6. , 1.8],\n",
              "        [6.2, 2.8, 4.8, 1.8],\n",
              "        [6.1, 3. , 4.9, 1.8],\n",
              "        [6.4, 2.8, 5.6, 2.1],\n",
              "        [7.2, 3. , 5.8, 1.6],\n",
              "        [7.4, 2.8, 6.1, 1.9],\n",
              "        [7.9, 3.8, 6.4, 2. ],\n",
              "        [6.4, 2.8, 5.6, 2.2],\n",
              "        [6.3, 2.8, 5.1, 1.5],\n",
              "        [6.1, 2.6, 5.6, 1.4],\n",
              "        [7.7, 3. , 6.1, 2.3],\n",
              "        [6.3, 3.4, 5.6, 2.4],\n",
              "        [6.4, 3.1, 5.5, 1.8],\n",
              "        [6. , 3. , 4.8, 1.8],\n",
              "        [6.9, 3.1, 5.4, 2.1],\n",
              "        [6.7, 3.1, 5.6, 2.4],\n",
              "        [6.9, 3.1, 5.1, 2.3],\n",
              "        [5.8, 2.7, 5.1, 1.9],\n",
              "        [6.8, 3.2, 5.9, 2.3],\n",
              "        [6.7, 3.3, 5.7, 2.5],\n",
              "        [6.7, 3. , 5.2, 2.3],\n",
              "        [6.3, 2.5, 5. , 1.9],\n",
              "        [6.5, 3. , 5.2, 2. ],\n",
              "        [6.2, 3.4, 5.4, 2.3],\n",
              "        [5.9, 3. , 5.1, 1.8]]),\n",
              " 'target': array([0, 0, 0, 0, 0, 0, 0, 0, 0, 0, 0, 0, 0, 0, 0, 0, 0, 0, 0, 0, 0, 0,\n",
              "        0, 0, 0, 0, 0, 0, 0, 0, 0, 0, 0, 0, 0, 0, 0, 0, 0, 0, 0, 0, 0, 0,\n",
              "        0, 0, 0, 0, 0, 0, 1, 1, 1, 1, 1, 1, 1, 1, 1, 1, 1, 1, 1, 1, 1, 1,\n",
              "        1, 1, 1, 1, 1, 1, 1, 1, 1, 1, 1, 1, 1, 1, 1, 1, 1, 1, 1, 1, 1, 1,\n",
              "        1, 1, 1, 1, 1, 1, 1, 1, 1, 1, 1, 1, 2, 2, 2, 2, 2, 2, 2, 2, 2, 2,\n",
              "        2, 2, 2, 2, 2, 2, 2, 2, 2, 2, 2, 2, 2, 2, 2, 2, 2, 2, 2, 2, 2, 2,\n",
              "        2, 2, 2, 2, 2, 2, 2, 2, 2, 2, 2, 2, 2, 2, 2, 2, 2, 2]),\n",
              " 'frame': None,\n",
              " 'target_names': array(['setosa', 'versicolor', 'virginica'], dtype='<U10'),\n",
              " 'DESCR': '.. _iris_dataset:\\n\\nIris plants dataset\\n--------------------\\n\\n**Data Set Characteristics:**\\n\\n    :Number of Instances: 150 (50 in each of three classes)\\n    :Number of Attributes: 4 numeric, predictive attributes and the class\\n    :Attribute Information:\\n        - sepal length in cm\\n        - sepal width in cm\\n        - petal length in cm\\n        - petal width in cm\\n        - class:\\n                - Iris-Setosa\\n                - Iris-Versicolour\\n                - Iris-Virginica\\n                \\n    :Summary Statistics:\\n\\n    ============== ==== ==== ======= ===== ====================\\n                    Min  Max   Mean    SD   Class Correlation\\n    ============== ==== ==== ======= ===== ====================\\n    sepal length:   4.3  7.9   5.84   0.83    0.7826\\n    sepal width:    2.0  4.4   3.05   0.43   -0.4194\\n    petal length:   1.0  6.9   3.76   1.76    0.9490  (high!)\\n    petal width:    0.1  2.5   1.20   0.76    0.9565  (high!)\\n    ============== ==== ==== ======= ===== ====================\\n\\n    :Missing Attribute Values: None\\n    :Class Distribution: 33.3% for each of 3 classes.\\n    :Creator: R.A. Fisher\\n    :Donor: Michael Marshall (MARSHALL%PLU@io.arc.nasa.gov)\\n    :Date: July, 1988\\n\\nThe famous Iris database, first used by Sir R.A. Fisher. The dataset is taken\\nfrom Fisher\\'s paper. Note that it\\'s the same as in R, but not as in the UCI\\nMachine Learning Repository, which has two wrong data points.\\n\\nThis is perhaps the best known database to be found in the\\npattern recognition literature.  Fisher\\'s paper is a classic in the field and\\nis referenced frequently to this day.  (See Duda & Hart, for example.)  The\\ndata set contains 3 classes of 50 instances each, where each class refers to a\\ntype of iris plant.  One class is linearly separable from the other 2; the\\nlatter are NOT linearly separable from each other.\\n\\n.. topic:: References\\n\\n   - Fisher, R.A. \"The use of multiple measurements in taxonomic problems\"\\n     Annual Eugenics, 7, Part II, 179-188 (1936); also in \"Contributions to\\n     Mathematical Statistics\" (John Wiley, NY, 1950).\\n   - Duda, R.O., & Hart, P.E. (1973) Pattern Classification and Scene Analysis.\\n     (Q327.D83) John Wiley & Sons.  ISBN 0-471-22361-1.  See page 218.\\n   - Dasarathy, B.V. (1980) \"Nosing Around the Neighborhood: A New System\\n     Structure and Classification Rule for Recognition in Partially Exposed\\n     Environments\".  IEEE Transactions on Pattern Analysis and Machine\\n     Intelligence, Vol. PAMI-2, No. 1, 67-71.\\n   - Gates, G.W. (1972) \"The Reduced Nearest Neighbor Rule\".  IEEE Transactions\\n     on Information Theory, May 1972, 431-433.\\n   - See also: 1988 MLC Proceedings, 54-64.  Cheeseman et al\"s AUTOCLASS II\\n     conceptual clustering system finds 3 classes in the data.\\n   - Many, many more ...',\n",
              " 'feature_names': ['sepal length (cm)',\n",
              "  'sepal width (cm)',\n",
              "  'petal length (cm)',\n",
              "  'petal width (cm)'],\n",
              " 'filename': 'iris.csv',\n",
              " 'data_module': 'sklearn.datasets.data'}"
            ]
          },
          "metadata": {},
          "execution_count": 171
        }
      ]
    },
    {
      "cell_type": "code",
      "source": [
        "data = iris['data']\n",
        "target = iris['target']"
      ],
      "metadata": {
        "id": "L_gSVSj3bjQP"
      },
      "execution_count": null,
      "outputs": []
    },
    {
      "cell_type": "code",
      "source": [
        "data"
      ],
      "metadata": {
        "colab": {
          "base_uri": "https://localhost:8080/"
        },
        "id": "x_rQ1JqudBYe",
        "outputId": "284d60c7-c6ac-4bbf-8e9d-1a923db391b0"
      },
      "execution_count": null,
      "outputs": [
        {
          "output_type": "execute_result",
          "data": {
            "text/plain": [
              "array([[5.1, 3.5, 1.4, 0.2],\n",
              "       [4.9, 3. , 1.4, 0.2],\n",
              "       [4.7, 3.2, 1.3, 0.2],\n",
              "       [4.6, 3.1, 1.5, 0.2],\n",
              "       [5. , 3.6, 1.4, 0.2],\n",
              "       [5.4, 3.9, 1.7, 0.4],\n",
              "       [4.6, 3.4, 1.4, 0.3],\n",
              "       [5. , 3.4, 1.5, 0.2],\n",
              "       [4.4, 2.9, 1.4, 0.2],\n",
              "       [4.9, 3.1, 1.5, 0.1],\n",
              "       [5.4, 3.7, 1.5, 0.2],\n",
              "       [4.8, 3.4, 1.6, 0.2],\n",
              "       [4.8, 3. , 1.4, 0.1],\n",
              "       [4.3, 3. , 1.1, 0.1],\n",
              "       [5.8, 4. , 1.2, 0.2],\n",
              "       [5.7, 4.4, 1.5, 0.4],\n",
              "       [5.4, 3.9, 1.3, 0.4],\n",
              "       [5.1, 3.5, 1.4, 0.3],\n",
              "       [5.7, 3.8, 1.7, 0.3],\n",
              "       [5.1, 3.8, 1.5, 0.3],\n",
              "       [5.4, 3.4, 1.7, 0.2],\n",
              "       [5.1, 3.7, 1.5, 0.4],\n",
              "       [4.6, 3.6, 1. , 0.2],\n",
              "       [5.1, 3.3, 1.7, 0.5],\n",
              "       [4.8, 3.4, 1.9, 0.2],\n",
              "       [5. , 3. , 1.6, 0.2],\n",
              "       [5. , 3.4, 1.6, 0.4],\n",
              "       [5.2, 3.5, 1.5, 0.2],\n",
              "       [5.2, 3.4, 1.4, 0.2],\n",
              "       [4.7, 3.2, 1.6, 0.2],\n",
              "       [4.8, 3.1, 1.6, 0.2],\n",
              "       [5.4, 3.4, 1.5, 0.4],\n",
              "       [5.2, 4.1, 1.5, 0.1],\n",
              "       [5.5, 4.2, 1.4, 0.2],\n",
              "       [4.9, 3.1, 1.5, 0.2],\n",
              "       [5. , 3.2, 1.2, 0.2],\n",
              "       [5.5, 3.5, 1.3, 0.2],\n",
              "       [4.9, 3.6, 1.4, 0.1],\n",
              "       [4.4, 3. , 1.3, 0.2],\n",
              "       [5.1, 3.4, 1.5, 0.2],\n",
              "       [5. , 3.5, 1.3, 0.3],\n",
              "       [4.5, 2.3, 1.3, 0.3],\n",
              "       [4.4, 3.2, 1.3, 0.2],\n",
              "       [5. , 3.5, 1.6, 0.6],\n",
              "       [5.1, 3.8, 1.9, 0.4],\n",
              "       [4.8, 3. , 1.4, 0.3],\n",
              "       [5.1, 3.8, 1.6, 0.2],\n",
              "       [4.6, 3.2, 1.4, 0.2],\n",
              "       [5.3, 3.7, 1.5, 0.2],\n",
              "       [5. , 3.3, 1.4, 0.2],\n",
              "       [7. , 3.2, 4.7, 1.4],\n",
              "       [6.4, 3.2, 4.5, 1.5],\n",
              "       [6.9, 3.1, 4.9, 1.5],\n",
              "       [5.5, 2.3, 4. , 1.3],\n",
              "       [6.5, 2.8, 4.6, 1.5],\n",
              "       [5.7, 2.8, 4.5, 1.3],\n",
              "       [6.3, 3.3, 4.7, 1.6],\n",
              "       [4.9, 2.4, 3.3, 1. ],\n",
              "       [6.6, 2.9, 4.6, 1.3],\n",
              "       [5.2, 2.7, 3.9, 1.4],\n",
              "       [5. , 2. , 3.5, 1. ],\n",
              "       [5.9, 3. , 4.2, 1.5],\n",
              "       [6. , 2.2, 4. , 1. ],\n",
              "       [6.1, 2.9, 4.7, 1.4],\n",
              "       [5.6, 2.9, 3.6, 1.3],\n",
              "       [6.7, 3.1, 4.4, 1.4],\n",
              "       [5.6, 3. , 4.5, 1.5],\n",
              "       [5.8, 2.7, 4.1, 1. ],\n",
              "       [6.2, 2.2, 4.5, 1.5],\n",
              "       [5.6, 2.5, 3.9, 1.1],\n",
              "       [5.9, 3.2, 4.8, 1.8],\n",
              "       [6.1, 2.8, 4. , 1.3],\n",
              "       [6.3, 2.5, 4.9, 1.5],\n",
              "       [6.1, 2.8, 4.7, 1.2],\n",
              "       [6.4, 2.9, 4.3, 1.3],\n",
              "       [6.6, 3. , 4.4, 1.4],\n",
              "       [6.8, 2.8, 4.8, 1.4],\n",
              "       [6.7, 3. , 5. , 1.7],\n",
              "       [6. , 2.9, 4.5, 1.5],\n",
              "       [5.7, 2.6, 3.5, 1. ],\n",
              "       [5.5, 2.4, 3.8, 1.1],\n",
              "       [5.5, 2.4, 3.7, 1. ],\n",
              "       [5.8, 2.7, 3.9, 1.2],\n",
              "       [6. , 2.7, 5.1, 1.6],\n",
              "       [5.4, 3. , 4.5, 1.5],\n",
              "       [6. , 3.4, 4.5, 1.6],\n",
              "       [6.7, 3.1, 4.7, 1.5],\n",
              "       [6.3, 2.3, 4.4, 1.3],\n",
              "       [5.6, 3. , 4.1, 1.3],\n",
              "       [5.5, 2.5, 4. , 1.3],\n",
              "       [5.5, 2.6, 4.4, 1.2],\n",
              "       [6.1, 3. , 4.6, 1.4],\n",
              "       [5.8, 2.6, 4. , 1.2],\n",
              "       [5. , 2.3, 3.3, 1. ],\n",
              "       [5.6, 2.7, 4.2, 1.3],\n",
              "       [5.7, 3. , 4.2, 1.2],\n",
              "       [5.7, 2.9, 4.2, 1.3],\n",
              "       [6.2, 2.9, 4.3, 1.3],\n",
              "       [5.1, 2.5, 3. , 1.1],\n",
              "       [5.7, 2.8, 4.1, 1.3],\n",
              "       [6.3, 3.3, 6. , 2.5],\n",
              "       [5.8, 2.7, 5.1, 1.9],\n",
              "       [7.1, 3. , 5.9, 2.1],\n",
              "       [6.3, 2.9, 5.6, 1.8],\n",
              "       [6.5, 3. , 5.8, 2.2],\n",
              "       [7.6, 3. , 6.6, 2.1],\n",
              "       [4.9, 2.5, 4.5, 1.7],\n",
              "       [7.3, 2.9, 6.3, 1.8],\n",
              "       [6.7, 2.5, 5.8, 1.8],\n",
              "       [7.2, 3.6, 6.1, 2.5],\n",
              "       [6.5, 3.2, 5.1, 2. ],\n",
              "       [6.4, 2.7, 5.3, 1.9],\n",
              "       [6.8, 3. , 5.5, 2.1],\n",
              "       [5.7, 2.5, 5. , 2. ],\n",
              "       [5.8, 2.8, 5.1, 2.4],\n",
              "       [6.4, 3.2, 5.3, 2.3],\n",
              "       [6.5, 3. , 5.5, 1.8],\n",
              "       [7.7, 3.8, 6.7, 2.2],\n",
              "       [7.7, 2.6, 6.9, 2.3],\n",
              "       [6. , 2.2, 5. , 1.5],\n",
              "       [6.9, 3.2, 5.7, 2.3],\n",
              "       [5.6, 2.8, 4.9, 2. ],\n",
              "       [7.7, 2.8, 6.7, 2. ],\n",
              "       [6.3, 2.7, 4.9, 1.8],\n",
              "       [6.7, 3.3, 5.7, 2.1],\n",
              "       [7.2, 3.2, 6. , 1.8],\n",
              "       [6.2, 2.8, 4.8, 1.8],\n",
              "       [6.1, 3. , 4.9, 1.8],\n",
              "       [6.4, 2.8, 5.6, 2.1],\n",
              "       [7.2, 3. , 5.8, 1.6],\n",
              "       [7.4, 2.8, 6.1, 1.9],\n",
              "       [7.9, 3.8, 6.4, 2. ],\n",
              "       [6.4, 2.8, 5.6, 2.2],\n",
              "       [6.3, 2.8, 5.1, 1.5],\n",
              "       [6.1, 2.6, 5.6, 1.4],\n",
              "       [7.7, 3. , 6.1, 2.3],\n",
              "       [6.3, 3.4, 5.6, 2.4],\n",
              "       [6.4, 3.1, 5.5, 1.8],\n",
              "       [6. , 3. , 4.8, 1.8],\n",
              "       [6.9, 3.1, 5.4, 2.1],\n",
              "       [6.7, 3.1, 5.6, 2.4],\n",
              "       [6.9, 3.1, 5.1, 2.3],\n",
              "       [5.8, 2.7, 5.1, 1.9],\n",
              "       [6.8, 3.2, 5.9, 2.3],\n",
              "       [6.7, 3.3, 5.7, 2.5],\n",
              "       [6.7, 3. , 5.2, 2.3],\n",
              "       [6.3, 2.5, 5. , 1.9],\n",
              "       [6.5, 3. , 5.2, 2. ],\n",
              "       [6.2, 3.4, 5.4, 2.3],\n",
              "       [5.9, 3. , 5.1, 1.8]])"
            ]
          },
          "metadata": {},
          "execution_count": 173
        }
      ]
    },
    {
      "cell_type": "code",
      "source": [
        "target# WE must to convert our label with one hot encoding come to 0,1 space"
      ],
      "metadata": {
        "colab": {
          "base_uri": "https://localhost:8080/"
        },
        "id": "L3jkaJDJdCgr",
        "outputId": "cb8e3c95-bbfb-4e7f-8fd7-69f18dab39b3"
      },
      "execution_count": null,
      "outputs": [
        {
          "output_type": "execute_result",
          "data": {
            "text/plain": [
              "array([0, 0, 0, 0, 0, 0, 0, 0, 0, 0, 0, 0, 0, 0, 0, 0, 0, 0, 0, 0, 0, 0,\n",
              "       0, 0, 0, 0, 0, 0, 0, 0, 0, 0, 0, 0, 0, 0, 0, 0, 0, 0, 0, 0, 0, 0,\n",
              "       0, 0, 0, 0, 0, 0, 1, 1, 1, 1, 1, 1, 1, 1, 1, 1, 1, 1, 1, 1, 1, 1,\n",
              "       1, 1, 1, 1, 1, 1, 1, 1, 1, 1, 1, 1, 1, 1, 1, 1, 1, 1, 1, 1, 1, 1,\n",
              "       1, 1, 1, 1, 1, 1, 1, 1, 1, 1, 1, 1, 2, 2, 2, 2, 2, 2, 2, 2, 2, 2,\n",
              "       2, 2, 2, 2, 2, 2, 2, 2, 2, 2, 2, 2, 2, 2, 2, 2, 2, 2, 2, 2, 2, 2,\n",
              "       2, 2, 2, 2, 2, 2, 2, 2, 2, 2, 2, 2, 2, 2, 2, 2, 2, 2])"
            ]
          },
          "metadata": {},
          "execution_count": 174
        }
      ]
    },
    {
      "cell_type": "code",
      "source": [
        "from tensorflow.keras.models import Sequential\n",
        "from tensorflow.keras.layers import Dense"
      ],
      "metadata": {
        "id": "C55IUNi4q8yv"
      },
      "execution_count": null,
      "outputs": []
    },
    {
      "cell_type": "code",
      "source": [
        "# we have 3 classes as reslut we must to have 3 NEURON"
      ],
      "metadata": {
        "id": "cjRxsrfhdICR"
      },
      "execution_count": null,
      "outputs": []
    },
    {
      "cell_type": "code",
      "source": [
        "# we want to design model with 4 featuers and 1 Neurons with activation is linera because our label is 0 to 2 andclear,,as you know our activation\n",
        "# is linear and the period of linaer is  -extreme to +extrem and out class is 1 cuase we want to predict 0 or 1 or 2 and our out put is 1 class\n",
        "# and also our task is regression\n",
        "model = Sequential()\n",
        "model.add(Dense(units=1, activation='linear', input_shape=(4, )))"
      ],
      "metadata": {
        "id": "b9D1vIpleSb5"
      },
      "execution_count": null,
      "outputs": []
    },
    {
      "cell_type": "code",
      "source": [
        "model.compile(optimizer='sgd', loss='MSE', metrics='accuracy') # model .compile get a main attribute and optimizer is whose want to go to update weights\n",
        "                                           # and loss must be according our dataset  in this data set cause our data is clear .loss be MSE"
      ],
      "metadata": {
        "id": "z2QvC25_e7KL"
      },
      "execution_count": null,
      "outputs": []
    },
    {
      "cell_type": "code",
      "source": [
        "model.fit(data, target) # model.fit get a X as a entrance and out poy as label and the final compare it"
      ],
      "metadata": {
        "colab": {
          "base_uri": "https://localhost:8080/"
        },
        "id": "-bjXRV7_f61c",
        "outputId": "a2a3db5b-78a8-4a71-d259-c1635ec65710"
      },
      "execution_count": null,
      "outputs": [
        {
          "output_type": "stream",
          "name": "stdout",
          "text": [
            "5/5 [==============================] - 1s 8ms/step - loss: 3.9737 - accuracy: 0.4267\n"
          ]
        },
        {
          "output_type": "execute_result",
          "data": {
            "text/plain": [
              "<keras.src.callbacks.History at 0x7dc484ad7190>"
            ]
          },
          "metadata": {},
          "execution_count": 179
        }
      ]
    },
    {
      "cell_type": "code",
      "source": [
        "model.fit(data, target, batch_size=16) # batch_size is the lenght of our data and defult is 16  ..we have 150 data/16=====>10/10"
      ],
      "metadata": {
        "colab": {
          "base_uri": "https://localhost:8080/"
        },
        "id": "6HYNzpNdhRvr",
        "outputId": "f757ea0e-b6c4-4e3d-f00c-9790cca3a6a5"
      },
      "execution_count": null,
      "outputs": [
        {
          "output_type": "stream",
          "name": "stdout",
          "text": [
            "10/10 [==============================] - 0s 3ms/step - loss: 0.2555 - accuracy: 0.5933\n"
          ]
        },
        {
          "output_type": "execute_result",
          "data": {
            "text/plain": [
              "<keras.src.callbacks.History at 0x7dc484025ea0>"
            ]
          },
          "metadata": {},
          "execution_count": 180
        }
      ]
    },
    {
      "cell_type": "code",
      "source": [
        "model.fit(data, target, batch_size=16, epochs=5) # epochs is mean how many you want give your data as a entranse and when we did not give a number\n",
        "                                                # the defult is 1"
      ],
      "metadata": {
        "colab": {
          "base_uri": "https://localhost:8080/"
        },
        "id": "kAwzOe5itN6k",
        "outputId": "d07689d0-5ebb-44c1-dc57-bbb7cda06b37"
      },
      "execution_count": null,
      "outputs": [
        {
          "output_type": "stream",
          "name": "stdout",
          "text": [
            "Epoch 1/5\n",
            "10/10 [==============================] - 0s 8ms/step - loss: 0.2273 - accuracy: 0.6467\n",
            "Epoch 2/5\n",
            "10/10 [==============================] - 0s 8ms/step - loss: 0.1804 - accuracy: 0.6667\n",
            "Epoch 3/5\n",
            "10/10 [==============================] - 0s 8ms/step - loss: 0.1679 - accuracy: 0.6667\n",
            "Epoch 4/5\n",
            "10/10 [==============================] - 0s 6ms/step - loss: 0.2086 - accuracy: 0.6533\n",
            "Epoch 5/5\n",
            "10/10 [==============================] - 0s 5ms/step - loss: 0.1472 - accuracy: 0.6667\n"
          ]
        },
        {
          "output_type": "execute_result",
          "data": {
            "text/plain": [
              "<keras.src.callbacks.History at 0x7dc48496f9a0>"
            ]
          },
          "metadata": {},
          "execution_count": 181
        }
      ]
    },
    {
      "cell_type": "code",
      "source": [
        "y_hat = model.predict(data) # get a data and give a label or produce label"
      ],
      "metadata": {
        "colab": {
          "base_uri": "https://localhost:8080/"
        },
        "id": "jKLMu8B0tw8B",
        "outputId": "78c421a9-ccaf-4c93-fb00-52df7f6c4976"
      },
      "execution_count": null,
      "outputs": [
        {
          "output_type": "stream",
          "name": "stdout",
          "text": [
            "5/5 [==============================] - 0s 6ms/step\n"
          ]
        }
      ]
    },
    {
      "cell_type": "code",
      "source": [
        "target[0]"
      ],
      "metadata": {
        "colab": {
          "base_uri": "https://localhost:8080/"
        },
        "id": "HaEPyYN-ugT2",
        "outputId": "ff2cc604-4b7c-418a-d0f6-25b744ce5ad9"
      },
      "execution_count": null,
      "outputs": [
        {
          "output_type": "execute_result",
          "data": {
            "text/plain": [
              "0"
            ]
          },
          "metadata": {},
          "execution_count": 183
        }
      ]
    },
    {
      "cell_type": "code",
      "source": [
        "y_hat[0]"
      ],
      "metadata": {
        "colab": {
          "base_uri": "https://localhost:8080/"
        },
        "id": "80WujgTvuthA",
        "outputId": "4d229efd-d3d9-4368-987a-a9fa2a7871af"
      },
      "execution_count": null,
      "outputs": [
        {
          "output_type": "execute_result",
          "data": {
            "text/plain": [
              "array([-0.07200246], dtype=float32)"
            ]
          },
          "metadata": {},
          "execution_count": 184
        }
      ]
    },
    {
      "cell_type": "code",
      "source": [
        "target[90]"
      ],
      "metadata": {
        "colab": {
          "base_uri": "https://localhost:8080/"
        },
        "id": "PlNcYoNCuwxI",
        "outputId": "9deb3112-428a-44ec-f4d0-d42d3a17e285"
      },
      "execution_count": null,
      "outputs": [
        {
          "output_type": "execute_result",
          "data": {
            "text/plain": [
              "1"
            ]
          },
          "metadata": {},
          "execution_count": 185
        }
      ]
    },
    {
      "cell_type": "code",
      "source": [
        "y_hat[90]"
      ],
      "metadata": {
        "colab": {
          "base_uri": "https://localhost:8080/"
        },
        "id": "EQSg09w2u-ii",
        "outputId": "6aff880c-0a1c-488a-a462-4b93f490e9bd"
      },
      "execution_count": null,
      "outputs": [
        {
          "output_type": "execute_result",
          "data": {
            "text/plain": [
              "array([1.4857606], dtype=float32)"
            ]
          },
          "metadata": {},
          "execution_count": 186
        }
      ]
    },
    {
      "cell_type": "code",
      "source": [
        "# as our task is regression very difficult to continue and we must to change to categorical and use to_categorical package"
      ],
      "metadata": {
        "id": "Y7QLOLxdvBAQ"
      },
      "execution_count": null,
      "outputs": []
    },
    {
      "cell_type": "code",
      "source": [
        "from tensorflow.keras.utils import to_categorical  # specially use one_hot_encoding ::::::encode our data"
      ],
      "metadata": {
        "id": "nyvUSL-evwHl"
      },
      "execution_count": null,
      "outputs": []
    },
    {
      "cell_type": "code",
      "source": [
        "[0,0,1,0,2]"
      ],
      "metadata": {
        "colab": {
          "base_uri": "https://localhost:8080/"
        },
        "id": "vDq-lkOc0U1r",
        "outputId": "adad3d29-d79b-4c4c-a42e-641e43fb8924"
      },
      "execution_count": null,
      "outputs": [
        {
          "output_type": "execute_result",
          "data": {
            "text/plain": [
              "[0, 0, 1, 0, 2]"
            ]
          },
          "metadata": {},
          "execution_count": 189
        }
      ]
    },
    {
      "cell_type": "code",
      "source": [
        "0, [1,0,0]\n",
        "1, [0,1,0]\n",
        "2, [0,0,1]"
      ],
      "metadata": {
        "colab": {
          "base_uri": "https://localhost:8080/"
        },
        "id": "2qejmmVW0U9X",
        "outputId": "df3b4ecf-0413-4ed3-b29c-0a523940beef"
      },
      "execution_count": null,
      "outputs": [
        {
          "output_type": "execute_result",
          "data": {
            "text/plain": [
              "(2, [0, 0, 1])"
            ]
          },
          "metadata": {},
          "execution_count": 190
        }
      ]
    },
    {
      "cell_type": "code",
      "source": [
        "[[1,0,0],[1,0,0],[0,1,0],[1,0,0],[0,0,1]]"
      ],
      "metadata": {
        "colab": {
          "base_uri": "https://localhost:8080/"
        },
        "id": "IXJGe9MJ0VFJ",
        "outputId": "931c91d1-6ad1-43cb-99b8-83e5a6e7c8d0"
      },
      "execution_count": null,
      "outputs": [
        {
          "output_type": "execute_result",
          "data": {
            "text/plain": [
              "[[1, 0, 0], [1, 0, 0], [0, 1, 0], [1, 0, 0], [0, 0, 1]]"
            ]
          },
          "metadata": {},
          "execution_count": 191
        }
      ]
    },
    {
      "cell_type": "code",
      "source": [
        "cat_target = to_categorical(target)"
      ],
      "metadata": {
        "id": "-T-dHkCUyH-q"
      },
      "execution_count": null,
      "outputs": []
    },
    {
      "cell_type": "code",
      "source": [
        "target[0]"
      ],
      "metadata": {
        "colab": {
          "base_uri": "https://localhost:8080/"
        },
        "id": "3BAwSek5yaRA",
        "outputId": "db49adba-44a4-4068-cf95-b22b8b7fb533"
      },
      "execution_count": null,
      "outputs": [
        {
          "output_type": "execute_result",
          "data": {
            "text/plain": [
              "0"
            ]
          },
          "metadata": {},
          "execution_count": 193
        }
      ]
    },
    {
      "cell_type": "code",
      "source": [
        "cat_target[0]"
      ],
      "metadata": {
        "colab": {
          "base_uri": "https://localhost:8080/"
        },
        "id": "cjPvVHHiyhdg",
        "outputId": "b099b193-d2b6-4337-abd2-57d244942119"
      },
      "execution_count": null,
      "outputs": [
        {
          "output_type": "execute_result",
          "data": {
            "text/plain": [
              "array([1., 0., 0.], dtype=float32)"
            ]
          },
          "metadata": {},
          "execution_count": 194
        }
      ]
    },
    {
      "cell_type": "code",
      "source": [
        "# now we have 3 classes(0,1,2) and each class must be present Nueron as 0 as 1 as 2\n",
        "# and when we change activation to softmax = for each Neuron we have probability for entrance gave  0 probability is 90% or probability 2 or 1 is 85%\n",
        "# and the summary of all Neuron is be 1\n",
        "model = Sequential()\n",
        "model.add(Dense(units=1, activation='softmax', input_shape=(4, )))"
      ],
      "metadata": {
        "id": "39Ah01OsylqW"
      },
      "execution_count": null,
      "outputs": []
    },
    {
      "cell_type": "code",
      "source": [
        "# loss='MSE' just work for linear and for softmax we musy to change categorical_crossen_tropy\n",
        "model.compile(optimizer='sgd', loss='categorical_crossentropy', metrics='accuracy')"
      ],
      "metadata": {
        "id": "X4S70Pmk2dYx"
      },
      "execution_count": null,
      "outputs": []
    },
    {
      "cell_type": "code",
      "source": [
        "# model.fit(data, cat_target, batch_size=16, epochs=5)\n",
        "model.fit(data, target, batch_size=16, epochs=5)"
      ],
      "metadata": {
        "colab": {
          "base_uri": "https://localhost:8080/"
        },
        "id": "VtDhZMfJ3O0a",
        "outputId": "1a0f0538-5cf4-47c3-d5ee-d3754b8024d0"
      },
      "execution_count": null,
      "outputs": [
        {
          "output_type": "stream",
          "name": "stdout",
          "text": [
            "Epoch 1/5\n"
          ]
        },
        {
          "output_type": "stream",
          "name": "stderr",
          "text": [
            "/usr/local/lib/python3.10/dist-packages/tensorflow/python/util/dispatch.py:1260: SyntaxWarning: In loss categorical_crossentropy, expected y_pred.shape to be (batch_size, num_classes) with num_classes > 1. Received: y_pred.shape=(None, 1). Consider using 'binary_crossentropy' if you only have 2 classes.\n",
            "  return dispatch_target(*args, **kwargs)\n"
          ]
        },
        {
          "output_type": "stream",
          "name": "stdout",
          "text": [
            "10/10 [==============================] - 1s 6ms/step - loss: 0.0000e+00 - accuracy: 0.3333\n",
            "Epoch 2/5\n",
            "10/10 [==============================] - 0s 7ms/step - loss: 0.0000e+00 - accuracy: 0.3333\n",
            "Epoch 3/5\n",
            "10/10 [==============================] - 0s 4ms/step - loss: 0.0000e+00 - accuracy: 0.3333\n",
            "Epoch 4/5\n",
            "10/10 [==============================] - 0s 5ms/step - loss: 0.0000e+00 - accuracy: 0.3333\n",
            "Epoch 5/5\n",
            "10/10 [==============================] - 0s 6ms/step - loss: 0.0000e+00 - accuracy: 0.3333\n"
          ]
        },
        {
          "output_type": "execute_result",
          "data": {
            "text/plain": [
              "<keras.src.callbacks.History at 0x7dc476754790>"
            ]
          },
          "metadata": {},
          "execution_count": 197
        }
      ]
    },
    {
      "cell_type": "code",
      "source": [
        "y_hat = model.predict(data)"
      ],
      "metadata": {
        "id": "poffuZps3tK5",
        "colab": {
          "base_uri": "https://localhost:8080/"
        },
        "outputId": "56a2fd01-a044-46ab-a9bb-04dcc6db16ec"
      },
      "execution_count": null,
      "outputs": [
        {
          "output_type": "stream",
          "name": "stdout",
          "text": [
            "5/5 [==============================] - 0s 8ms/step\n"
          ]
        }
      ]
    },
    {
      "cell_type": "code",
      "source": [
        "y_hat[0], cat_target[0]"
      ],
      "metadata": {
        "colab": {
          "base_uri": "https://localhost:8080/"
        },
        "id": "zJ5n2jmC6yaK",
        "outputId": "3d8b7445-1a30-48ec-b1a9-3dd107ffba1c"
      },
      "execution_count": null,
      "outputs": [
        {
          "output_type": "execute_result",
          "data": {
            "text/plain": [
              "(array([0.99999994], dtype=float32), array([1., 0., 0.], dtype=float32))"
            ]
          },
          "metadata": {},
          "execution_count": 199
        }
      ]
    },
    {
      "cell_type": "code",
      "source": [
        "# we want to have better accuracy performance\n",
        "# we must to check is preprocessing is good or no?"
      ],
      "metadata": {
        "id": "wXw0Bmcf7AeI"
      },
      "execution_count": null,
      "outputs": []
    },
    {
      "cell_type": "code",
      "source": [
        "cat_target # cause is not randomness in data then strat and read sequnc and sequence data and forgot it and we should shuffle it"
      ],
      "metadata": {
        "colab": {
          "base_uri": "https://localhost:8080/"
        },
        "id": "_YzO90uP7wXb",
        "outputId": "15959613-621c-4345-f1ac-3b0ef0ee9bf9"
      },
      "execution_count": null,
      "outputs": [
        {
          "output_type": "execute_result",
          "data": {
            "text/plain": [
              "array([[1., 0., 0.],\n",
              "       [1., 0., 0.],\n",
              "       [1., 0., 0.],\n",
              "       [1., 0., 0.],\n",
              "       [1., 0., 0.],\n",
              "       [1., 0., 0.],\n",
              "       [1., 0., 0.],\n",
              "       [1., 0., 0.],\n",
              "       [1., 0., 0.],\n",
              "       [1., 0., 0.],\n",
              "       [1., 0., 0.],\n",
              "       [1., 0., 0.],\n",
              "       [1., 0., 0.],\n",
              "       [1., 0., 0.],\n",
              "       [1., 0., 0.],\n",
              "       [1., 0., 0.],\n",
              "       [1., 0., 0.],\n",
              "       [1., 0., 0.],\n",
              "       [1., 0., 0.],\n",
              "       [1., 0., 0.],\n",
              "       [1., 0., 0.],\n",
              "       [1., 0., 0.],\n",
              "       [1., 0., 0.],\n",
              "       [1., 0., 0.],\n",
              "       [1., 0., 0.],\n",
              "       [1., 0., 0.],\n",
              "       [1., 0., 0.],\n",
              "       [1., 0., 0.],\n",
              "       [1., 0., 0.],\n",
              "       [1., 0., 0.],\n",
              "       [1., 0., 0.],\n",
              "       [1., 0., 0.],\n",
              "       [1., 0., 0.],\n",
              "       [1., 0., 0.],\n",
              "       [1., 0., 0.],\n",
              "       [1., 0., 0.],\n",
              "       [1., 0., 0.],\n",
              "       [1., 0., 0.],\n",
              "       [1., 0., 0.],\n",
              "       [1., 0., 0.],\n",
              "       [1., 0., 0.],\n",
              "       [1., 0., 0.],\n",
              "       [1., 0., 0.],\n",
              "       [1., 0., 0.],\n",
              "       [1., 0., 0.],\n",
              "       [1., 0., 0.],\n",
              "       [1., 0., 0.],\n",
              "       [1., 0., 0.],\n",
              "       [1., 0., 0.],\n",
              "       [1., 0., 0.],\n",
              "       [0., 1., 0.],\n",
              "       [0., 1., 0.],\n",
              "       [0., 1., 0.],\n",
              "       [0., 1., 0.],\n",
              "       [0., 1., 0.],\n",
              "       [0., 1., 0.],\n",
              "       [0., 1., 0.],\n",
              "       [0., 1., 0.],\n",
              "       [0., 1., 0.],\n",
              "       [0., 1., 0.],\n",
              "       [0., 1., 0.],\n",
              "       [0., 1., 0.],\n",
              "       [0., 1., 0.],\n",
              "       [0., 1., 0.],\n",
              "       [0., 1., 0.],\n",
              "       [0., 1., 0.],\n",
              "       [0., 1., 0.],\n",
              "       [0., 1., 0.],\n",
              "       [0., 1., 0.],\n",
              "       [0., 1., 0.],\n",
              "       [0., 1., 0.],\n",
              "       [0., 1., 0.],\n",
              "       [0., 1., 0.],\n",
              "       [0., 1., 0.],\n",
              "       [0., 1., 0.],\n",
              "       [0., 1., 0.],\n",
              "       [0., 1., 0.],\n",
              "       [0., 1., 0.],\n",
              "       [0., 1., 0.],\n",
              "       [0., 1., 0.],\n",
              "       [0., 1., 0.],\n",
              "       [0., 1., 0.],\n",
              "       [0., 1., 0.],\n",
              "       [0., 1., 0.],\n",
              "       [0., 1., 0.],\n",
              "       [0., 1., 0.],\n",
              "       [0., 1., 0.],\n",
              "       [0., 1., 0.],\n",
              "       [0., 1., 0.],\n",
              "       [0., 1., 0.],\n",
              "       [0., 1., 0.],\n",
              "       [0., 1., 0.],\n",
              "       [0., 1., 0.],\n",
              "       [0., 1., 0.],\n",
              "       [0., 1., 0.],\n",
              "       [0., 1., 0.],\n",
              "       [0., 1., 0.],\n",
              "       [0., 1., 0.],\n",
              "       [0., 1., 0.],\n",
              "       [0., 1., 0.],\n",
              "       [0., 0., 1.],\n",
              "       [0., 0., 1.],\n",
              "       [0., 0., 1.],\n",
              "       [0., 0., 1.],\n",
              "       [0., 0., 1.],\n",
              "       [0., 0., 1.],\n",
              "       [0., 0., 1.],\n",
              "       [0., 0., 1.],\n",
              "       [0., 0., 1.],\n",
              "       [0., 0., 1.],\n",
              "       [0., 0., 1.],\n",
              "       [0., 0., 1.],\n",
              "       [0., 0., 1.],\n",
              "       [0., 0., 1.],\n",
              "       [0., 0., 1.],\n",
              "       [0., 0., 1.],\n",
              "       [0., 0., 1.],\n",
              "       [0., 0., 1.],\n",
              "       [0., 0., 1.],\n",
              "       [0., 0., 1.],\n",
              "       [0., 0., 1.],\n",
              "       [0., 0., 1.],\n",
              "       [0., 0., 1.],\n",
              "       [0., 0., 1.],\n",
              "       [0., 0., 1.],\n",
              "       [0., 0., 1.],\n",
              "       [0., 0., 1.],\n",
              "       [0., 0., 1.],\n",
              "       [0., 0., 1.],\n",
              "       [0., 0., 1.],\n",
              "       [0., 0., 1.],\n",
              "       [0., 0., 1.],\n",
              "       [0., 0., 1.],\n",
              "       [0., 0., 1.],\n",
              "       [0., 0., 1.],\n",
              "       [0., 0., 1.],\n",
              "       [0., 0., 1.],\n",
              "       [0., 0., 1.],\n",
              "       [0., 0., 1.],\n",
              "       [0., 0., 1.],\n",
              "       [0., 0., 1.],\n",
              "       [0., 0., 1.],\n",
              "       [0., 0., 1.],\n",
              "       [0., 0., 1.],\n",
              "       [0., 0., 1.],\n",
              "       [0., 0., 1.],\n",
              "       [0., 0., 1.],\n",
              "       [0., 0., 1.],\n",
              "       [0., 0., 1.],\n",
              "       [0., 0., 1.]], dtype=float32)"
            ]
          },
          "metadata": {},
          "execution_count": 201
        }
      ]
    },
    {
      "cell_type": "code",
      "source": [
        "from sklearn.model_selection import train_test_split"
      ],
      "metadata": {
        "id": "h7D86S9a7xEt"
      },
      "execution_count": null,
      "outputs": []
    },
    {
      "cell_type": "code",
      "source": [
        "x_train, x_test, y_train, y_test = train_test_split(data, cat_target, test_size=0.2)"
      ],
      "metadata": {
        "id": "0Bfrnh2T8V79"
      },
      "execution_count": null,
      "outputs": []
    },
    {
      "cell_type": "code",
      "source": [
        "x_train.shape, y_train.shape"
      ],
      "metadata": {
        "colab": {
          "base_uri": "https://localhost:8080/"
        },
        "id": "llsNRpW69hPn",
        "outputId": "7eccc0a7-8677-489e-fc16-1638d716dafe"
      },
      "execution_count": null,
      "outputs": [
        {
          "output_type": "execute_result",
          "data": {
            "text/plain": [
              "((120, 4), (120, 3))"
            ]
          },
          "metadata": {},
          "execution_count": 204
        }
      ]
    },
    {
      "cell_type": "code",
      "source": [
        "x_test.shape, y_test.shape"
      ],
      "metadata": {
        "colab": {
          "base_uri": "https://localhost:8080/"
        },
        "id": "hknkREqT-Jg9",
        "outputId": "d65f2287-2d86-40e6-d70e-1fec7302f344"
      },
      "execution_count": null,
      "outputs": [
        {
          "output_type": "execute_result",
          "data": {
            "text/plain": [
              "((30, 4), (30, 3))"
            ]
          },
          "metadata": {},
          "execution_count": 205
        }
      ]
    },
    {
      "cell_type": "code",
      "source": [
        "len(x_test), len(y_test), len(x_train), len(y_train)"
      ],
      "metadata": {
        "colab": {
          "base_uri": "https://localhost:8080/"
        },
        "id": "hGYA02nx-Rrr",
        "outputId": "2cb266b5-bc78-4eaf-c3fd-f4460c2269d8"
      },
      "execution_count": null,
      "outputs": [
        {
          "output_type": "execute_result",
          "data": {
            "text/plain": [
              "(30, 30, 120, 120)"
            ]
          },
          "metadata": {},
          "execution_count": 206
        }
      ]
    },
    {
      "cell_type": "code",
      "source": [
        "y_train # manipulate"
      ],
      "metadata": {
        "colab": {
          "base_uri": "https://localhost:8080/"
        },
        "id": "QxxgQ7es_LZ7",
        "outputId": "bbd15865-0a49-4ad5-8053-1b8d6b443aa1"
      },
      "execution_count": null,
      "outputs": [
        {
          "output_type": "execute_result",
          "data": {
            "text/plain": [
              "array([[0., 1., 0.],\n",
              "       [0., 1., 0.],\n",
              "       [0., 1., 0.],\n",
              "       [1., 0., 0.],\n",
              "       [0., 1., 0.],\n",
              "       [1., 0., 0.],\n",
              "       [1., 0., 0.],\n",
              "       [0., 0., 1.],\n",
              "       [0., 1., 0.],\n",
              "       [0., 1., 0.],\n",
              "       [1., 0., 0.],\n",
              "       [1., 0., 0.],\n",
              "       [1., 0., 0.],\n",
              "       [0., 1., 0.],\n",
              "       [1., 0., 0.],\n",
              "       [0., 1., 0.],\n",
              "       [0., 1., 0.],\n",
              "       [0., 1., 0.],\n",
              "       [1., 0., 0.],\n",
              "       [1., 0., 0.],\n",
              "       [0., 1., 0.],\n",
              "       [1., 0., 0.],\n",
              "       [0., 0., 1.],\n",
              "       [0., 0., 1.],\n",
              "       [1., 0., 0.],\n",
              "       [1., 0., 0.],\n",
              "       [0., 1., 0.],\n",
              "       [1., 0., 0.],\n",
              "       [0., 1., 0.],\n",
              "       [0., 1., 0.],\n",
              "       [0., 0., 1.],\n",
              "       [0., 0., 1.],\n",
              "       [0., 0., 1.],\n",
              "       [0., 1., 0.],\n",
              "       [1., 0., 0.],\n",
              "       [0., 0., 1.],\n",
              "       [0., 1., 0.],\n",
              "       [1., 0., 0.],\n",
              "       [0., 0., 1.],\n",
              "       [0., 1., 0.],\n",
              "       [1., 0., 0.],\n",
              "       [1., 0., 0.],\n",
              "       [0., 1., 0.],\n",
              "       [0., 1., 0.],\n",
              "       [1., 0., 0.],\n",
              "       [1., 0., 0.],\n",
              "       [0., 0., 1.],\n",
              "       [0., 0., 1.],\n",
              "       [0., 0., 1.],\n",
              "       [1., 0., 0.],\n",
              "       [0., 0., 1.],\n",
              "       [1., 0., 0.],\n",
              "       [0., 0., 1.],\n",
              "       [0., 0., 1.],\n",
              "       [1., 0., 0.],\n",
              "       [1., 0., 0.],\n",
              "       [0., 1., 0.],\n",
              "       [0., 1., 0.],\n",
              "       [1., 0., 0.],\n",
              "       [0., 1., 0.],\n",
              "       [0., 0., 1.],\n",
              "       [0., 1., 0.],\n",
              "       [0., 0., 1.],\n",
              "       [0., 0., 1.],\n",
              "       [0., 0., 1.],\n",
              "       [0., 0., 1.],\n",
              "       [0., 0., 1.],\n",
              "       [1., 0., 0.],\n",
              "       [0., 1., 0.],\n",
              "       [0., 0., 1.],\n",
              "       [1., 0., 0.],\n",
              "       [0., 1., 0.],\n",
              "       [1., 0., 0.],\n",
              "       [0., 1., 0.],\n",
              "       [0., 1., 0.],\n",
              "       [0., 1., 0.],\n",
              "       [0., 0., 1.],\n",
              "       [1., 0., 0.],\n",
              "       [1., 0., 0.],\n",
              "       [0., 1., 0.],\n",
              "       [1., 0., 0.],\n",
              "       [0., 0., 1.],\n",
              "       [0., 0., 1.],\n",
              "       [0., 1., 0.],\n",
              "       [0., 0., 1.],\n",
              "       [0., 0., 1.],\n",
              "       [0., 1., 0.],\n",
              "       [1., 0., 0.],\n",
              "       [0., 0., 1.],\n",
              "       [1., 0., 0.],\n",
              "       [0., 0., 1.],\n",
              "       [0., 0., 1.],\n",
              "       [0., 1., 0.],\n",
              "       [1., 0., 0.],\n",
              "       [1., 0., 0.],\n",
              "       [0., 0., 1.],\n",
              "       [0., 1., 0.],\n",
              "       [0., 1., 0.],\n",
              "       [1., 0., 0.],\n",
              "       [0., 0., 1.],\n",
              "       [0., 0., 1.],\n",
              "       [1., 0., 0.],\n",
              "       [0., 1., 0.],\n",
              "       [0., 0., 1.],\n",
              "       [0., 1., 0.],\n",
              "       [1., 0., 0.],\n",
              "       [1., 0., 0.],\n",
              "       [1., 0., 0.],\n",
              "       [1., 0., 0.],\n",
              "       [0., 0., 1.],\n",
              "       [0., 0., 1.],\n",
              "       [0., 0., 1.],\n",
              "       [1., 0., 0.],\n",
              "       [0., 0., 1.],\n",
              "       [1., 0., 0.],\n",
              "       [0., 1., 0.],\n",
              "       [0., 0., 1.],\n",
              "       [1., 0., 0.],\n",
              "       [0., 0., 1.],\n",
              "       [0., 0., 1.]], dtype=float32)"
            ]
          },
          "metadata": {},
          "execution_count": 207
        }
      ]
    },
    {
      "cell_type": "code",
      "source": [
        "model = Sequential()\n",
        "model.add(Dense(units=3, activation='softmax', input_shape=(4,)))\n",
        "model.compile(optimizer='sgd', loss='categorical_crossentropy', metrics='accuracy')\n",
        "model.fit(x_train, y_train, batch_size=16, epochs=5) # our condition is better and we increase our accuracy"
      ],
      "metadata": {
        "colab": {
          "base_uri": "https://localhost:8080/"
        },
        "id": "GQzxeW65_VAE",
        "outputId": "cc67a4b6-670a-406b-faed-04c48f64ad0c"
      },
      "execution_count": null,
      "outputs": [
        {
          "output_type": "stream",
          "name": "stdout",
          "text": [
            "Epoch 1/5\n",
            "8/8 [==============================] - 1s 6ms/step - loss: 2.3443 - accuracy: 0.0750\n",
            "Epoch 2/5\n",
            "8/8 [==============================] - 0s 5ms/step - loss: 1.6074 - accuracy: 0.2917\n",
            "Epoch 3/5\n",
            "8/8 [==============================] - 0s 5ms/step - loss: 1.1745 - accuracy: 0.4000\n",
            "Epoch 4/5\n",
            "8/8 [==============================] - 0s 10ms/step - loss: 1.0299 - accuracy: 0.4500\n",
            "Epoch 5/5\n",
            "8/8 [==============================] - 0s 10ms/step - loss: 0.9638 - accuracy: 0.6417\n"
          ]
        },
        {
          "output_type": "execute_result",
          "data": {
            "text/plain": [
              "<keras.src.callbacks.History at 0x7dc50e472cb0>"
            ]
          },
          "metadata": {},
          "execution_count": 208
        }
      ]
    },
    {
      "cell_type": "code",
      "source": [
        "# another way for increase accuracy but is not exellent\n",
        "model = Sequential()\n",
        "model.add(Dense(units=3, activation='softmax', input_shape=(4,)))\n",
        "model.compile(optimizer='sgd', loss='categorical_crossentropy', metrics='accuracy')\n",
        "model.fit(x_train, y_train, batch_size=16, epochs=20)"
      ],
      "metadata": {
        "colab": {
          "base_uri": "https://localhost:8080/"
        },
        "id": "agVuCbCxAN08",
        "outputId": "e634c662-1254-474c-877b-5ce2f50702c2"
      },
      "execution_count": null,
      "outputs": [
        {
          "output_type": "stream",
          "name": "stdout",
          "text": [
            "Epoch 1/20\n",
            "8/8 [==============================] - 1s 6ms/step - loss: 4.1216 - accuracy: 0.4000\n",
            "Epoch 2/20\n",
            "8/8 [==============================] - 0s 6ms/step - loss: 2.1277 - accuracy: 0.6667\n",
            "Epoch 3/20\n",
            "8/8 [==============================] - 0s 15ms/step - loss: 0.9641 - accuracy: 0.6583\n",
            "Epoch 4/20\n",
            "8/8 [==============================] - 0s 17ms/step - loss: 0.7065 - accuracy: 0.4833\n",
            "Epoch 5/20\n",
            "8/8 [==============================] - 0s 5ms/step - loss: 0.6793 - accuracy: 0.4417\n",
            "Epoch 6/20\n",
            "8/8 [==============================] - 0s 5ms/step - loss: 0.6766 - accuracy: 0.5167\n",
            "Epoch 7/20\n",
            "8/8 [==============================] - 0s 4ms/step - loss: 0.6642 - accuracy: 0.5000\n",
            "Epoch 8/20\n",
            "8/8 [==============================] - 0s 5ms/step - loss: 0.6515 - accuracy: 0.5167\n",
            "Epoch 9/20\n",
            "8/8 [==============================] - 0s 6ms/step - loss: 0.6487 - accuracy: 0.6417\n",
            "Epoch 10/20\n",
            "8/8 [==============================] - 0s 5ms/step - loss: 0.6339 - accuracy: 0.5333\n",
            "Epoch 11/20\n",
            "8/8 [==============================] - 0s 5ms/step - loss: 0.6200 - accuracy: 0.4833\n",
            "Epoch 12/20\n",
            "8/8 [==============================] - 0s 5ms/step - loss: 0.6079 - accuracy: 0.6000\n",
            "Epoch 13/20\n",
            "8/8 [==============================] - 0s 6ms/step - loss: 0.6044 - accuracy: 0.6833\n",
            "Epoch 14/20\n",
            "8/8 [==============================] - 0s 6ms/step - loss: 0.6098 - accuracy: 0.5917\n",
            "Epoch 15/20\n",
            "8/8 [==============================] - 0s 6ms/step - loss: 0.5974 - accuracy: 0.6000\n",
            "Epoch 16/20\n",
            "8/8 [==============================] - 0s 5ms/step - loss: 0.5880 - accuracy: 0.6000\n",
            "Epoch 17/20\n",
            "8/8 [==============================] - 0s 5ms/step - loss: 0.5783 - accuracy: 0.6000\n",
            "Epoch 18/20\n",
            "8/8 [==============================] - 0s 4ms/step - loss: 0.5701 - accuracy: 0.6000\n",
            "Epoch 19/20\n",
            "8/8 [==============================] - 0s 4ms/step - loss: 0.5693 - accuracy: 0.5833\n",
            "Epoch 20/20\n",
            "8/8 [==============================] - 0s 13ms/step - loss: 0.5683 - accuracy: 0.6833\n"
          ]
        },
        {
          "output_type": "execute_result",
          "data": {
            "text/plain": [
              "<keras.src.callbacks.History at 0x7dc50e42e8f0>"
            ]
          },
          "metadata": {},
          "execution_count": 209
        }
      ]
    },
    {
      "cell_type": "code",
      "source": [
        "model.evaluate(x_test, y_test) # we can compare the our model with do note see that data"
      ],
      "metadata": {
        "colab": {
          "base_uri": "https://localhost:8080/"
        },
        "id": "qPPxpuHJBL1L",
        "outputId": "b68cb480-35e7-4934-e17f-82d8d9f467b5"
      },
      "execution_count": null,
      "outputs": [
        {
          "output_type": "stream",
          "name": "stdout",
          "text": [
            "1/1 [==============================] - 2s 2s/step - loss: 0.6726 - accuracy: 0.5667\n"
          ]
        },
        {
          "output_type": "execute_result",
          "data": {
            "text/plain": [
              "[0.6726320385932922, 0.5666666626930237]"
            ]
          },
          "metadata": {},
          "execution_count": 210
        }
      ]
    },
    {
      "cell_type": "code",
      "source": [
        "#an other way to increase our accuracy to increase our layers:\n",
        "model = Sequential()\n",
        "model.add(Dense(units=4, activation='linear', input_shape=(4,)))\n",
        "model.add(Dense(units=3, activation='softmax')) # we can complicated our model\n",
        "model.compile(optimizer='sgd', loss='categorical_crossentropy', metrics='accuracy')\n",
        "model.summary()\n",
        "model.fit(x_train, y_train, batch_size=16, epochs=10) # with hig epoches we faced overfitting but the max is 10"
      ],
      "metadata": {
        "colab": {
          "base_uri": "https://localhost:8080/"
        },
        "id": "jwbeRlNGB0v_",
        "outputId": "8a658a37-8eab-4f83-9fae-024f1ae48e26"
      },
      "execution_count": null,
      "outputs": [
        {
          "output_type": "stream",
          "name": "stdout",
          "text": [
            "Model: \"sequential_8\"\n",
            "_________________________________________________________________\n",
            " Layer (type)                Output Shape              Param #   \n",
            "=================================================================\n",
            " dense_10 (Dense)            (None, 4)                 20        \n",
            "                                                                 \n",
            " dense_11 (Dense)            (None, 3)                 15        \n",
            "                                                                 \n",
            "=================================================================\n",
            "Total params: 35 (140.00 Byte)\n",
            "Trainable params: 35 (140.00 Byte)\n",
            "Non-trainable params: 0 (0.00 Byte)\n",
            "_________________________________________________________________\n",
            "Epoch 1/10\n",
            "8/8 [==============================] - 2s 6ms/step - loss: 3.1492 - accuracy: 0.1167 \n",
            "Epoch 2/10\n",
            "8/8 [==============================] - 0s 5ms/step - loss: 1.8615 - accuracy: 0.1333\n",
            "Epoch 3/10\n",
            "8/8 [==============================] - 0s 5ms/step - loss: 1.2862 - accuracy: 0.2333\n",
            "Epoch 4/10\n",
            "8/8 [==============================] - 0s 5ms/step - loss: 1.0610 - accuracy: 0.0917\n",
            "Epoch 5/10\n",
            "8/8 [==============================] - 0s 4ms/step - loss: 0.9410 - accuracy: 0.4417\n",
            "Epoch 6/10\n",
            "8/8 [==============================] - 0s 12ms/step - loss: 0.8577 - accuracy: 0.4250\n",
            "Epoch 7/10\n",
            "8/8 [==============================] - 0s 10ms/step - loss: 0.7906 - accuracy: 0.4500\n",
            "Epoch 8/10\n",
            "8/8 [==============================] - 0s 11ms/step - loss: 0.7401 - accuracy: 0.4583\n",
            "Epoch 9/10\n",
            "8/8 [==============================] - 0s 4ms/step - loss: 0.7027 - accuracy: 0.4583\n",
            "Epoch 10/10\n",
            "8/8 [==============================] - 0s 19ms/step - loss: 0.6647 - accuracy: 0.6667\n"
          ]
        },
        {
          "output_type": "execute_result",
          "data": {
            "text/plain": [
              "<keras.src.callbacks.History at 0x7dc50c337940>"
            ]
          },
          "metadata": {},
          "execution_count": 211
        }
      ]
    },
    {
      "cell_type": "code",
      "source": [
        "#an other way to increase our accuracy to increase our Neuron: our accuracy be stable\n",
        "model = Sequential()\n",
        "model.add(Dense(units=8, activation='linear', input_shape=(4,)))\n",
        "model.add(Dense(units=3, activation='softmax'))\n",
        "model.compile(optimizer='sgd', loss='categorical_crossentropy', metrics='accuracy')\n",
        "model.summary()\n",
        "model.fit(x_train, y_train, batch_size=16, epochs=10)"
      ],
      "metadata": {
        "colab": {
          "base_uri": "https://localhost:8080/"
        },
        "id": "MRyvwtndEcjV",
        "outputId": "c502eb81-578e-41ea-b84d-4b446f9f8d04"
      },
      "execution_count": null,
      "outputs": [
        {
          "output_type": "stream",
          "name": "stdout",
          "text": [
            "Model: \"sequential_9\"\n",
            "_________________________________________________________________\n",
            " Layer (type)                Output Shape              Param #   \n",
            "=================================================================\n",
            " dense_12 (Dense)            (None, 8)                 40        \n",
            "                                                                 \n",
            " dense_13 (Dense)            (None, 3)                 27        \n",
            "                                                                 \n",
            "=================================================================\n",
            "Total params: 67 (268.00 Byte)\n",
            "Trainable params: 67 (268.00 Byte)\n",
            "Non-trainable params: 0 (0.00 Byte)\n",
            "_________________________________________________________________\n",
            "Epoch 1/10\n",
            "8/8 [==============================] - 1s 5ms/step - loss: 1.5856 - accuracy: 0.3000\n",
            "Epoch 2/10\n",
            "8/8 [==============================] - 0s 6ms/step - loss: 1.1280 - accuracy: 0.3250\n",
            "Epoch 3/10\n",
            "8/8 [==============================] - 0s 10ms/step - loss: 1.0520 - accuracy: 0.3500\n",
            "Epoch 4/10\n",
            "8/8 [==============================] - 0s 8ms/step - loss: 0.9407 - accuracy: 0.6167\n",
            "Epoch 5/10\n",
            "8/8 [==============================] - 0s 7ms/step - loss: 0.8864 - accuracy: 0.6583\n",
            "Epoch 6/10\n",
            "8/8 [==============================] - 0s 9ms/step - loss: 0.8559 - accuracy: 0.6750\n",
            "Epoch 7/10\n",
            "8/8 [==============================] - 0s 5ms/step - loss: 0.7938 - accuracy: 0.6917\n",
            "Epoch 8/10\n",
            "8/8 [==============================] - 0s 5ms/step - loss: 0.7659 - accuracy: 0.6833\n",
            "Epoch 9/10\n",
            "8/8 [==============================] - 0s 6ms/step - loss: 0.6945 - accuracy: 0.7250\n",
            "Epoch 10/10\n",
            "8/8 [==============================] - 0s 10ms/step - loss: 0.6623 - accuracy: 0.7250\n"
          ]
        },
        {
          "output_type": "execute_result",
          "data": {
            "text/plain": [
              "<keras.src.callbacks.History at 0x7dc4767f4a90>"
            ]
          },
          "metadata": {},
          "execution_count": 212
        }
      ]
    },
    {
      "cell_type": "code",
      "source": [
        "#an other way to increase our accuracy to change our activation\n",
        "model = Sequential()\n",
        "model.add(Dense(units=8, activation='tanh', input_shape=(4,)))\n",
        "model.add(Dense(units=3, activation='softmax'))\n",
        "model.compile(optimizer='sgd', loss='categorical_crossentropy', metrics='accuracy')\n",
        "model.summary()\n",
        "model.fit(x_train, y_train, batch_size=16, epochs=10)"
      ],
      "metadata": {
        "colab": {
          "base_uri": "https://localhost:8080/"
        },
        "id": "_gT45TZEEuVF",
        "outputId": "4d6517b4-3265-4ee6-c904-7153c1ca6232"
      },
      "execution_count": null,
      "outputs": [
        {
          "output_type": "stream",
          "name": "stdout",
          "text": [
            "Model: \"sequential_10\"\n",
            "_________________________________________________________________\n",
            " Layer (type)                Output Shape              Param #   \n",
            "=================================================================\n",
            " dense_14 (Dense)            (None, 8)                 40        \n",
            "                                                                 \n",
            " dense_15 (Dense)            (None, 3)                 27        \n",
            "                                                                 \n",
            "=================================================================\n",
            "Total params: 67 (268.00 Byte)\n",
            "Trainable params: 67 (268.00 Byte)\n",
            "Non-trainable params: 0 (0.00 Byte)\n",
            "_________________________________________________________________\n",
            "Epoch 1/10\n",
            "8/8 [==============================] - 1s 6ms/step - loss: 1.0984 - accuracy: 0.3583\n",
            "Epoch 2/10\n",
            "8/8 [==============================] - 0s 8ms/step - loss: 1.0890 - accuracy: 0.3583\n",
            "Epoch 3/10\n",
            "8/8 [==============================] - 0s 6ms/step - loss: 1.0828 - accuracy: 0.3583\n",
            "Epoch 4/10\n",
            "8/8 [==============================] - 0s 5ms/step - loss: 1.0744 - accuracy: 0.4333\n",
            "Epoch 5/10\n",
            "8/8 [==============================] - 0s 7ms/step - loss: 1.0673 - accuracy: 0.5667\n",
            "Epoch 6/10\n",
            "8/8 [==============================] - 0s 5ms/step - loss: 1.0623 - accuracy: 0.3500\n",
            "Epoch 7/10\n",
            "8/8 [==============================] - 0s 5ms/step - loss: 1.0518 - accuracy: 0.3083\n",
            "Epoch 8/10\n",
            "8/8 [==============================] - 0s 4ms/step - loss: 1.0419 - accuracy: 0.6000\n",
            "Epoch 9/10\n",
            "8/8 [==============================] - 0s 4ms/step - loss: 1.0324 - accuracy: 0.6000\n",
            "Epoch 10/10\n",
            "8/8 [==============================] - 0s 4ms/step - loss: 1.0160 - accuracy: 0.6083\n"
          ]
        },
        {
          "output_type": "execute_result",
          "data": {
            "text/plain": [
              "<keras.src.callbacks.History at 0x7dc4849b51b0>"
            ]
          },
          "metadata": {},
          "execution_count": 213
        }
      ]
    },
    {
      "cell_type": "code",
      "source": [
        "model = Sequential()\n",
        "model.add(Dense(units=8, activation='sigmoid', input_shape=(4,))) # sigmoid has bad performance\n",
        "model.add(Dense(units=3, activation='softmax'))\n",
        "model.compile(optimizer='sgd', loss='categorical_crossentropy', metrics='accuracy')\n",
        "model.summary()\n",
        "model.fit(x_train, y_train, batch_size=16, epochs=10)"
      ],
      "metadata": {
        "colab": {
          "base_uri": "https://localhost:8080/"
        },
        "id": "Ne0WhxS7FfGh",
        "outputId": "42b480f9-081f-44a5-90f5-1e448b53a03d"
      },
      "execution_count": null,
      "outputs": [
        {
          "output_type": "stream",
          "name": "stdout",
          "text": [
            "Model: \"sequential_11\"\n",
            "_________________________________________________________________\n",
            " Layer (type)                Output Shape              Param #   \n",
            "=================================================================\n",
            " dense_16 (Dense)            (None, 8)                 40        \n",
            "                                                                 \n",
            " dense_17 (Dense)            (None, 3)                 27        \n",
            "                                                                 \n",
            "=================================================================\n",
            "Total params: 67 (268.00 Byte)\n",
            "Trainable params: 67 (268.00 Byte)\n",
            "Non-trainable params: 0 (0.00 Byte)\n",
            "_________________________________________________________________\n",
            "Epoch 1/10\n",
            "8/8 [==============================] - 2s 5ms/step - loss: 1.0769 - accuracy: 0.3500\n",
            "Epoch 2/10\n",
            "8/8 [==============================] - 0s 9ms/step - loss: 1.0721 - accuracy: 0.3500\n",
            "Epoch 3/10\n",
            "8/8 [==============================] - 0s 9ms/step - loss: 1.0683 - accuracy: 0.4167\n",
            "Epoch 4/10\n",
            "8/8 [==============================] - 0s 7ms/step - loss: 1.0648 - accuracy: 0.5667\n",
            "Epoch 5/10\n",
            "8/8 [==============================] - 0s 7ms/step - loss: 1.0617 - accuracy: 0.4833\n",
            "Epoch 6/10\n",
            "8/8 [==============================] - 0s 8ms/step - loss: 1.0586 - accuracy: 0.4833\n",
            "Epoch 7/10\n",
            "8/8 [==============================] - 0s 6ms/step - loss: 1.0548 - accuracy: 0.5417\n",
            "Epoch 8/10\n",
            "8/8 [==============================] - 0s 5ms/step - loss: 1.0526 - accuracy: 0.5583\n",
            "Epoch 9/10\n",
            "8/8 [==============================] - 0s 3ms/step - loss: 1.0481 - accuracy: 0.4667\n",
            "Epoch 10/10\n",
            "8/8 [==============================] - 0s 3ms/step - loss: 1.0451 - accuracy: 0.5750\n"
          ]
        },
        {
          "output_type": "execute_result",
          "data": {
            "text/plain": [
              "<keras.src.callbacks.History at 0x7dc475b91ab0>"
            ]
          },
          "metadata": {},
          "execution_count": 214
        }
      ]
    },
    {
      "cell_type": "code",
      "source": [
        "model = Sequential()\n",
        "model.add(Dense(units=8, activation='relu', input_shape=(4,))) # relu has bad performance just has a stability\n",
        "model.add(Dense(units=3, activation='softmax'))\n",
        "model.compile(optimizer='sgd', loss='categorical_crossentropy', metrics='accuracy')\n",
        "model.summary()\n",
        "model.fit(x_train, y_train, batch_size=16, epochs=10)"
      ],
      "metadata": {
        "colab": {
          "base_uri": "https://localhost:8080/"
        },
        "id": "8dRb3At2F4CV",
        "outputId": "93695518-c51a-46b6-c355-4998a0b159ff"
      },
      "execution_count": null,
      "outputs": [
        {
          "output_type": "stream",
          "name": "stdout",
          "text": [
            "Model: \"sequential_12\"\n",
            "_________________________________________________________________\n",
            " Layer (type)                Output Shape              Param #   \n",
            "=================================================================\n",
            " dense_18 (Dense)            (None, 8)                 40        \n",
            "                                                                 \n",
            " dense_19 (Dense)            (None, 3)                 27        \n",
            "                                                                 \n",
            "=================================================================\n",
            "Total params: 67 (268.00 Byte)\n",
            "Trainable params: 67 (268.00 Byte)\n",
            "Non-trainable params: 0 (0.00 Byte)\n",
            "_________________________________________________________________\n",
            "Epoch 1/10\n",
            "8/8 [==============================] - 0s 4ms/step - loss: 3.1375 - accuracy: 0.3750\n",
            "Epoch 2/10\n",
            "8/8 [==============================] - 0s 3ms/step - loss: 1.3675 - accuracy: 0.6583\n",
            "Epoch 3/10\n",
            "8/8 [==============================] - 0s 3ms/step - loss: 1.0218 - accuracy: 0.6667\n",
            "Epoch 4/10\n",
            "8/8 [==============================] - 0s 3ms/step - loss: 0.9024 - accuracy: 0.6667\n",
            "Epoch 5/10\n",
            "8/8 [==============================] - 0s 2ms/step - loss: 0.8114 - accuracy: 0.6667\n",
            "Epoch 6/10\n",
            "8/8 [==============================] - 0s 3ms/step - loss: 0.7578 - accuracy: 0.7667\n",
            "Epoch 7/10\n",
            "8/8 [==============================] - 0s 3ms/step - loss: 0.7201 - accuracy: 0.7750\n",
            "Epoch 8/10\n",
            "8/8 [==============================] - 0s 3ms/step - loss: 0.6874 - accuracy: 0.8583\n",
            "Epoch 9/10\n",
            "8/8 [==============================] - 0s 3ms/step - loss: 0.6627 - accuracy: 0.8917\n",
            "Epoch 10/10\n",
            "8/8 [==============================] - 0s 3ms/step - loss: 0.6392 - accuracy: 0.8917\n"
          ]
        },
        {
          "output_type": "execute_result",
          "data": {
            "text/plain": [
              "<keras.src.callbacks.History at 0x7dc475a4ae30>"
            ]
          },
          "metadata": {},
          "execution_count": 215
        }
      ]
    },
    {
      "cell_type": "markdown",
      "source": [
        "**# MNIST Dataset**\n"
      ],
      "metadata": {
        "id": "wWY4l20YI8lS"
      }
    },
    {
      "cell_type": "code",
      "source": [
        "from tensorflow.keras.datasets import mnist"
      ],
      "metadata": {
        "id": "adb4Qo4xGHON"
      },
      "execution_count": null,
      "outputs": []
    },
    {
      "cell_type": "code",
      "source": [
        "(x_train, y_train), (x_test, y_test) = mnist.load_data()"
      ],
      "metadata": {
        "colab": {
          "base_uri": "https://localhost:8080/"
        },
        "id": "q6FBzabpJf2-",
        "outputId": "7942df64-57b5-40b3-cccd-7641f390da63"
      },
      "execution_count": null,
      "outputs": [
        {
          "output_type": "stream",
          "name": "stdout",
          "text": [
            "Downloading data from https://storage.googleapis.com/tensorflow/tf-keras-datasets/mnist.npz\n",
            "11490434/11490434 [==============================] - 0s 0us/step\n"
          ]
        }
      ]
    },
    {
      "cell_type": "code",
      "source": [
        "len(x_train)"
      ],
      "metadata": {
        "colab": {
          "base_uri": "https://localhost:8080/"
        },
        "id": "pTl2EkACK83o",
        "outputId": "6fafc706-598a-4e3c-bfbc-d54819c35cd2"
      },
      "execution_count": null,
      "outputs": [
        {
          "output_type": "execute_result",
          "data": {
            "text/plain": [
              "60000"
            ]
          },
          "metadata": {},
          "execution_count": 218
        }
      ]
    },
    {
      "cell_type": "code",
      "source": [
        "x_train.shape"
      ],
      "metadata": {
        "colab": {
          "base_uri": "https://localhost:8080/"
        },
        "id": "xsgT7NEeLYNm",
        "outputId": "6179b5d3-2423-4037-98e5-00a6f17471d6"
      },
      "execution_count": null,
      "outputs": [
        {
          "output_type": "execute_result",
          "data": {
            "text/plain": [
              "(60000, 28, 28)"
            ]
          },
          "metadata": {},
          "execution_count": 219
        }
      ]
    },
    {
      "cell_type": "code",
      "source": [
        "x_train[0]"
      ],
      "metadata": {
        "colab": {
          "base_uri": "https://localhost:8080/"
        },
        "id": "0bhbLw4XLand",
        "outputId": "889a25e7-9312-4401-eae8-da825325f337"
      },
      "execution_count": null,
      "outputs": [
        {
          "output_type": "execute_result",
          "data": {
            "text/plain": [
              "array([[  0,   0,   0,   0,   0,   0,   0,   0,   0,   0,   0,   0,   0,\n",
              "          0,   0,   0,   0,   0,   0,   0,   0,   0,   0,   0,   0,   0,\n",
              "          0,   0],\n",
              "       [  0,   0,   0,   0,   0,   0,   0,   0,   0,   0,   0,   0,   0,\n",
              "          0,   0,   0,   0,   0,   0,   0,   0,   0,   0,   0,   0,   0,\n",
              "          0,   0],\n",
              "       [  0,   0,   0,   0,   0,   0,   0,   0,   0,   0,   0,   0,   0,\n",
              "          0,   0,   0,   0,   0,   0,   0,   0,   0,   0,   0,   0,   0,\n",
              "          0,   0],\n",
              "       [  0,   0,   0,   0,   0,   0,   0,   0,   0,   0,   0,   0,   0,\n",
              "          0,   0,   0,   0,   0,   0,   0,   0,   0,   0,   0,   0,   0,\n",
              "          0,   0],\n",
              "       [  0,   0,   0,   0,   0,   0,   0,   0,   0,   0,   0,   0,   0,\n",
              "          0,   0,   0,   0,   0,   0,   0,   0,   0,   0,   0,   0,   0,\n",
              "          0,   0],\n",
              "       [  0,   0,   0,   0,   0,   0,   0,   0,   0,   0,   0,   0,   3,\n",
              "         18,  18,  18, 126, 136, 175,  26, 166, 255, 247, 127,   0,   0,\n",
              "          0,   0],\n",
              "       [  0,   0,   0,   0,   0,   0,   0,   0,  30,  36,  94, 154, 170,\n",
              "        253, 253, 253, 253, 253, 225, 172, 253, 242, 195,  64,   0,   0,\n",
              "          0,   0],\n",
              "       [  0,   0,   0,   0,   0,   0,   0,  49, 238, 253, 253, 253, 253,\n",
              "        253, 253, 253, 253, 251,  93,  82,  82,  56,  39,   0,   0,   0,\n",
              "          0,   0],\n",
              "       [  0,   0,   0,   0,   0,   0,   0,  18, 219, 253, 253, 253, 253,\n",
              "        253, 198, 182, 247, 241,   0,   0,   0,   0,   0,   0,   0,   0,\n",
              "          0,   0],\n",
              "       [  0,   0,   0,   0,   0,   0,   0,   0,  80, 156, 107, 253, 253,\n",
              "        205,  11,   0,  43, 154,   0,   0,   0,   0,   0,   0,   0,   0,\n",
              "          0,   0],\n",
              "       [  0,   0,   0,   0,   0,   0,   0,   0,   0,  14,   1, 154, 253,\n",
              "         90,   0,   0,   0,   0,   0,   0,   0,   0,   0,   0,   0,   0,\n",
              "          0,   0],\n",
              "       [  0,   0,   0,   0,   0,   0,   0,   0,   0,   0,   0, 139, 253,\n",
              "        190,   2,   0,   0,   0,   0,   0,   0,   0,   0,   0,   0,   0,\n",
              "          0,   0],\n",
              "       [  0,   0,   0,   0,   0,   0,   0,   0,   0,   0,   0,  11, 190,\n",
              "        253,  70,   0,   0,   0,   0,   0,   0,   0,   0,   0,   0,   0,\n",
              "          0,   0],\n",
              "       [  0,   0,   0,   0,   0,   0,   0,   0,   0,   0,   0,   0,  35,\n",
              "        241, 225, 160, 108,   1,   0,   0,   0,   0,   0,   0,   0,   0,\n",
              "          0,   0],\n",
              "       [  0,   0,   0,   0,   0,   0,   0,   0,   0,   0,   0,   0,   0,\n",
              "         81, 240, 253, 253, 119,  25,   0,   0,   0,   0,   0,   0,   0,\n",
              "          0,   0],\n",
              "       [  0,   0,   0,   0,   0,   0,   0,   0,   0,   0,   0,   0,   0,\n",
              "          0,  45, 186, 253, 253, 150,  27,   0,   0,   0,   0,   0,   0,\n",
              "          0,   0],\n",
              "       [  0,   0,   0,   0,   0,   0,   0,   0,   0,   0,   0,   0,   0,\n",
              "          0,   0,  16,  93, 252, 253, 187,   0,   0,   0,   0,   0,   0,\n",
              "          0,   0],\n",
              "       [  0,   0,   0,   0,   0,   0,   0,   0,   0,   0,   0,   0,   0,\n",
              "          0,   0,   0,   0, 249, 253, 249,  64,   0,   0,   0,   0,   0,\n",
              "          0,   0],\n",
              "       [  0,   0,   0,   0,   0,   0,   0,   0,   0,   0,   0,   0,   0,\n",
              "          0,  46, 130, 183, 253, 253, 207,   2,   0,   0,   0,   0,   0,\n",
              "          0,   0],\n",
              "       [  0,   0,   0,   0,   0,   0,   0,   0,   0,   0,   0,   0,  39,\n",
              "        148, 229, 253, 253, 253, 250, 182,   0,   0,   0,   0,   0,   0,\n",
              "          0,   0],\n",
              "       [  0,   0,   0,   0,   0,   0,   0,   0,   0,   0,  24, 114, 221,\n",
              "        253, 253, 253, 253, 201,  78,   0,   0,   0,   0,   0,   0,   0,\n",
              "          0,   0],\n",
              "       [  0,   0,   0,   0,   0,   0,   0,   0,  23,  66, 213, 253, 253,\n",
              "        253, 253, 198,  81,   2,   0,   0,   0,   0,   0,   0,   0,   0,\n",
              "          0,   0],\n",
              "       [  0,   0,   0,   0,   0,   0,  18, 171, 219, 253, 253, 253, 253,\n",
              "        195,  80,   9,   0,   0,   0,   0,   0,   0,   0,   0,   0,   0,\n",
              "          0,   0],\n",
              "       [  0,   0,   0,   0,  55, 172, 226, 253, 253, 253, 253, 244, 133,\n",
              "         11,   0,   0,   0,   0,   0,   0,   0,   0,   0,   0,   0,   0,\n",
              "          0,   0],\n",
              "       [  0,   0,   0,   0, 136, 253, 253, 253, 212, 135, 132,  16,   0,\n",
              "          0,   0,   0,   0,   0,   0,   0,   0,   0,   0,   0,   0,   0,\n",
              "          0,   0],\n",
              "       [  0,   0,   0,   0,   0,   0,   0,   0,   0,   0,   0,   0,   0,\n",
              "          0,   0,   0,   0,   0,   0,   0,   0,   0,   0,   0,   0,   0,\n",
              "          0,   0],\n",
              "       [  0,   0,   0,   0,   0,   0,   0,   0,   0,   0,   0,   0,   0,\n",
              "          0,   0,   0,   0,   0,   0,   0,   0,   0,   0,   0,   0,   0,\n",
              "          0,   0],\n",
              "       [  0,   0,   0,   0,   0,   0,   0,   0,   0,   0,   0,   0,   0,\n",
              "          0,   0,   0,   0,   0,   0,   0,   0,   0,   0,   0,   0,   0,\n",
              "          0,   0]], dtype=uint8)"
            ]
          },
          "metadata": {},
          "execution_count": 220
        }
      ]
    },
    {
      "cell_type": "code",
      "source": [
        "import matplotlib.pyplot as plt\n"
      ],
      "metadata": {
        "id": "UZrqI_llLjx3"
      },
      "execution_count": null,
      "outputs": []
    },
    {
      "cell_type": "code",
      "source": [
        "plt.imshow(x_train[0])"
      ],
      "metadata": {
        "colab": {
          "base_uri": "https://localhost:8080/",
          "height": 447
        },
        "id": "Malzj82bL2XJ",
        "outputId": "13ec9819-4c2d-4997-b9f4-ad848d0f9f8d"
      },
      "execution_count": null,
      "outputs": [
        {
          "output_type": "execute_result",
          "data": {
            "text/plain": [
              "<matplotlib.image.AxesImage at 0x7dc475918ee0>"
            ]
          },
          "metadata": {},
          "execution_count": 222
        },
        {
          "output_type": "display_data",
          "data": {
            "text/plain": [
              "<Figure size 640x480 with 1 Axes>"
            ],
            "image/png": "[encoded data removed]"
          },
          "metadata": {}
        }
      ]
    },
    {
      "cell_type": "code",
      "source": [
        "y_train[0] # it is for confidence is the number is 5"
      ],
      "metadata": {
        "colab": {
          "base_uri": "https://localhost:8080/"
        },
        "id": "qLtTrGTdMFYE",
        "outputId": "2a458a77-8757-4338-ea62-62103efdd5b1"
      },
      "execution_count": null,
      "outputs": [
        {
          "output_type": "execute_result",
          "data": {
            "text/plain": [
              "5"
            ]
          },
          "metadata": {},
          "execution_count": 223
        }
      ]
    },
    {
      "cell_type": "code",
      "source": [
        "# we have some images and want to konw what is label for each lable?"
      ],
      "metadata": {
        "id": "sQ6FrE9fMPyK"
      },
      "execution_count": null,
      "outputs": []
    },
    {
      "cell_type": "code",
      "source": [
        "y_train = to_categorical(y_train)"
      ],
      "metadata": {
        "id": "EcHqi4AYM7Wa"
      },
      "execution_count": null,
      "outputs": []
    },
    {
      "cell_type": "code",
      "source": [
        "y_test = to_categorical(y_test)"
      ],
      "metadata": {
        "id": "ry4v_cyCSW4p"
      },
      "execution_count": null,
      "outputs": []
    },
    {
      "cell_type": "code",
      "source": [
        "y_train[0] # our model is ready"
      ],
      "metadata": {
        "colab": {
          "base_uri": "https://localhost:8080/"
        },
        "id": "fsq_EQEuSb29",
        "outputId": "a1d0afd9-512b-4926-baf8-d44d309ccae7"
      },
      "execution_count": null,
      "outputs": [
        {
          "output_type": "execute_result",
          "data": {
            "text/plain": [
              "array([0., 0., 0., 0., 0., 1., 0., 0., 0., 0.], dtype=float32)"
            ]
          },
          "metadata": {},
          "execution_count": 227
        }
      ]
    },
    {
      "cell_type": "code",
      "source": [
        "# we have challenge : our model is Neuron and our data is (lenght) them me must to transfer to vector"
      ],
      "metadata": {
        "id": "5_9OG5V-SoUR"
      },
      "execution_count": null,
      "outputs": []
    },
    {
      "cell_type": "code",
      "source": [
        "import numpy as np\n",
        "\n",
        "x_test = np.reshape(x_train, (60000, 28*28)) # now our date convert to the vector"
      ],
      "metadata": {
        "id": "Qu15jO4GTAGj"
      },
      "execution_count": null,
      "outputs": []
    },
    {
      "cell_type": "code",
      "source": [
        "x_train = np.reshape(x_train, (60000, 28*28))"
      ],
      "metadata": {
        "id": "0ifjcpVHVu1z"
      },
      "execution_count": null,
      "outputs": []
    },
    {
      "cell_type": "code",
      "source": [
        "x_train.shape"
      ],
      "metadata": {
        "colab": {
          "base_uri": "https://localhost:8080/"
        },
        "id": "lq1Ult_FVu8C",
        "outputId": "d47b74ff-4b22-45f9-a00c-dfd763fd9daf"
      },
      "execution_count": null,
      "outputs": [
        {
          "output_type": "execute_result",
          "data": {
            "text/plain": [
              "(60000, 784)"
            ]
          },
          "metadata": {},
          "execution_count": 231
        }
      ]
    },
    {
      "cell_type": "code",
      "source": [
        "model = Sequential()\n",
        "model.add(Dense(units=10, activation='relu', input_shape=(784,)))  # 10 classes =Neuron , 28*28 = 784\n",
        "model.compile(optimizer='sgd', loss='categorical_crossentropy', metrics='accuracy')\n",
        "model.summary()\n",
        "model.fit(x_train, y_train, batch_size=16, epochs=5)"
      ],
      "metadata": {
        "colab": {
          "base_uri": "https://localhost:8080/"
        },
        "id": "k-g7ucjRTzUK",
        "outputId": "60c4d581-4671-4c15-b44f-acf7e732631d"
      },
      "execution_count": null,
      "outputs": [
        {
          "output_type": "stream",
          "name": "stdout",
          "text": [
            "Model: \"sequential_13\"\n",
            "_________________________________________________________________\n",
            " Layer (type)                Output Shape              Param #   \n",
            "=================================================================\n",
            " dense_20 (Dense)            (None, 10)                7850      \n",
            "                                                                 \n",
            "=================================================================\n",
            "Total params: 7850 (30.66 KB)\n",
            "Trainable params: 7850 (30.66 KB)\n",
            "Non-trainable params: 0 (0.00 Byte)\n",
            "_________________________________________________________________\n",
            "Epoch 1/5\n",
            "3750/3750 [==============================] - 9s 2ms/step - loss: 2.3282 - accuracy: 0.1193\n",
            "Epoch 2/5\n",
            "3750/3750 [==============================] - 10s 3ms/step - loss: 2.3134 - accuracy: 0.0992\n",
            "Epoch 3/5\n",
            "3750/3750 [==============================] - 9s 2ms/step - loss: 2.1639 - accuracy: 0.0992\n",
            "Epoch 4/5\n",
            "3750/3750 [==============================] - 10s 3ms/step - loss: 2.0643 - accuracy: 0.0991\n",
            "Epoch 5/5\n",
            "3750/3750 [==============================] - 11s 3ms/step - loss: 1.9835 - accuracy: 0.0992\n"
          ]
        },
        {
          "output_type": "execute_result",
          "data": {
            "text/plain": [
              "<keras.src.callbacks.History at 0x7dc46ff3d0f0>"
            ]
          },
          "metadata": {},
          "execution_count": 232
        }
      ]
    },
    {
      "cell_type": "code",
      "source": [
        "# x_test = np.reshape(x_test, (10000, 784))\n",
        "# import numpy as np\n",
        "\n",
        "x_test = np.reshape(x_test, (10000, 784, 6))\n",
        "model.evaluate(x_test, y_test)"
      ],
      "metadata": {
        "colab": {
          "base_uri": "https://localhost:8080/",
          "height": 738
        },
        "id": "U-aZ15FnWaJF",
        "outputId": "f27d8c08-ff8e-4553-bed0-83b97396dd9d"
      },
      "execution_count": null,
      "outputs": [
        {
          "output_type": "error",
          "ename": "ValueError",
          "evalue": "in user code:\n\n    File \"/usr/local/lib/python3.10/dist-packages/keras/src/engine/training.py\", line 2066, in test_function  *\n        return step_function(self, iterator)\n    File \"/usr/local/lib/python3.10/dist-packages/keras/src/engine/training.py\", line 2049, in step_function  **\n        outputs = model.distribute_strategy.run(run_step, args=(data,))\n    File \"/usr/local/lib/python3.10/dist-packages/keras/src/engine/training.py\", line 2037, in run_step  **\n        outputs = model.test_step(data)\n    File \"/usr/local/lib/python3.10/dist-packages/keras/src/engine/training.py\", line 1917, in test_step\n        y_pred = self(x, training=False)\n    File \"/usr/local/lib/python3.10/dist-packages/keras/src/utils/traceback_utils.py\", line 70, in error_handler\n        raise e.with_traceback(filtered_tb) from None\n    File \"/usr/local/lib/python3.10/dist-packages/keras/src/engine/input_spec.py\", line 280, in assert_input_compatibility\n        raise ValueError(\n\n    ValueError: Exception encountered when calling layer 'sequential_13' (type Sequential).\n    \n    Input 0 of layer \"dense_20\" is incompatible with the layer: expected axis -1 of input shape to have value 784, but received input with shape (None, 784, 6)\n    \n    Call arguments received by layer 'sequential_13' (type Sequential):\n      • inputs=tf.Tensor(shape=(None, 784, 6), dtype=uint8)\n      • training=False\n      • mask=None\n",
          "traceback": [
            "\u001b[0;31m---------------------------------------------------------------------------\u001b[0m",
            "\u001b[0;31mValueError\u001b[0m                                Traceback (most recent call last)",
            "\u001b[0;32m<ipython-input-243-a8b6018cd050>\u001b[0m in \u001b[0;36m<cell line: 5>\u001b[0;34m()\u001b[0m\n\u001b[1;32m      3\u001b[0m \u001b[0;34m\u001b[0m\u001b[0m\n\u001b[1;32m      4\u001b[0m \u001b[0mx_test\u001b[0m \u001b[0;34m=\u001b[0m \u001b[0mnp\u001b[0m\u001b[0;34m.\u001b[0m\u001b[0mreshape\u001b[0m\u001b[0;34m(\u001b[0m\u001b[0mx_test\u001b[0m\u001b[0;34m,\u001b[0m \u001b[0;34m(\u001b[0m\u001b[0;36m10000\u001b[0m\u001b[0;34m,\u001b[0m \u001b[0;36m784\u001b[0m\u001b[0;34m,\u001b[0m \u001b[0;36m6\u001b[0m\u001b[0;34m)\u001b[0m\u001b[0;34m)\u001b[0m\u001b[0;34m\u001b[0m\u001b[0;34m\u001b[0m\u001b[0m\n\u001b[0;32m----> 5\u001b[0;31m \u001b[0mmodel\u001b[0m\u001b[0;34m.\u001b[0m\u001b[0mevaluate\u001b[0m\u001b[0;34m(\u001b[0m\u001b[0mx_test\u001b[0m\u001b[0;34m,\u001b[0m \u001b[0my_test\u001b[0m\u001b[0;34m)\u001b[0m\u001b[0;34m\u001b[0m\u001b[0;34m\u001b[0m\u001b[0m\n\u001b[0m",
            "\u001b[0;32m/usr/local/lib/python3.10/dist-packages/keras/src/utils/traceback_utils.py\u001b[0m in \u001b[0;36merror_handler\u001b[0;34m(*args, **kwargs)\u001b[0m\n\u001b[1;32m     68\u001b[0m             \u001b[0;31m# To get the full stack trace, call:\u001b[0m\u001b[0;34m\u001b[0m\u001b[0;34m\u001b[0m\u001b[0m\n\u001b[1;32m     69\u001b[0m             \u001b[0;31m# `tf.debugging.disable_traceback_filtering()`\u001b[0m\u001b[0;34m\u001b[0m\u001b[0;34m\u001b[0m\u001b[0m\n\u001b[0;32m---> 70\u001b[0;31m             \u001b[0;32mraise\u001b[0m \u001b[0me\u001b[0m\u001b[0;34m.\u001b[0m\u001b[0mwith_traceback\u001b[0m\u001b[0;34m(\u001b[0m\u001b[0mfiltered_tb\u001b[0m\u001b[0;34m)\u001b[0m \u001b[0;32mfrom\u001b[0m \u001b[0;32mNone\u001b[0m\u001b[0;34m\u001b[0m\u001b[0;34m\u001b[0m\u001b[0m\n\u001b[0m\u001b[1;32m     71\u001b[0m         \u001b[0;32mfinally\u001b[0m\u001b[0;34m:\u001b[0m\u001b[0;34m\u001b[0m\u001b[0;34m\u001b[0m\u001b[0m\n\u001b[1;32m     72\u001b[0m             \u001b[0;32mdel\u001b[0m \u001b[0mfiltered_tb\u001b[0m\u001b[0;34m\u001b[0m\u001b[0;34m\u001b[0m\u001b[0m\n",
            "\u001b[0;32m/usr/local/lib/python3.10/dist-packages/keras/src/engine/training.py\u001b[0m in \u001b[0;36mtf__test_function\u001b[0;34m(iterator)\u001b[0m\n\u001b[1;32m     13\u001b[0m                 \u001b[0;32mtry\u001b[0m\u001b[0;34m:\u001b[0m\u001b[0;34m\u001b[0m\u001b[0;34m\u001b[0m\u001b[0m\n\u001b[1;32m     14\u001b[0m                     \u001b[0mdo_return\u001b[0m \u001b[0;34m=\u001b[0m \u001b[0;32mTrue\u001b[0m\u001b[0;34m\u001b[0m\u001b[0;34m\u001b[0m\u001b[0m\n\u001b[0;32m---> 15\u001b[0;31m                     \u001b[0mretval_\u001b[0m \u001b[0;34m=\u001b[0m \u001b[0mag__\u001b[0m\u001b[0;34m.\u001b[0m\u001b[0mconverted_call\u001b[0m\u001b[0;34m(\u001b[0m\u001b[0mag__\u001b[0m\u001b[0;34m.\u001b[0m\u001b[0mld\u001b[0m\u001b[0;34m(\u001b[0m\u001b[0mstep_function\u001b[0m\u001b[0;34m)\u001b[0m\u001b[0;34m,\u001b[0m \u001b[0;34m(\u001b[0m\u001b[0mag__\u001b[0m\u001b[0;34m.\u001b[0m\u001b[0mld\u001b[0m\u001b[0;34m(\u001b[0m\u001b[0mself\u001b[0m\u001b[0;34m)\u001b[0m\u001b[0;34m,\u001b[0m \u001b[0mag__\u001b[0m\u001b[0;34m.\u001b[0m\u001b[0mld\u001b[0m\u001b[0;34m(\u001b[0m\u001b[0miterator\u001b[0m\u001b[0;34m)\u001b[0m\u001b[0;34m)\u001b[0m\u001b[0;34m,\u001b[0m \u001b[0;32mNone\u001b[0m\u001b[0;34m,\u001b[0m \u001b[0mfscope\u001b[0m\u001b[0;34m)\u001b[0m\u001b[0;34m\u001b[0m\u001b[0;34m\u001b[0m\u001b[0m\n\u001b[0m\u001b[1;32m     16\u001b[0m                 \u001b[0;32mexcept\u001b[0m\u001b[0;34m:\u001b[0m\u001b[0;34m\u001b[0m\u001b[0;34m\u001b[0m\u001b[0m\n\u001b[1;32m     17\u001b[0m                     \u001b[0mdo_return\u001b[0m \u001b[0;34m=\u001b[0m \u001b[0;32mFalse\u001b[0m\u001b[0;34m\u001b[0m\u001b[0;34m\u001b[0m\u001b[0m\n",
            "\u001b[0;31mValueError\u001b[0m: in user code:\n\n    File \"/usr/local/lib/python3.10/dist-packages/keras/src/engine/training.py\", line 2066, in test_function  *\n        return step_function(self, iterator)\n    File \"/usr/local/lib/python3.10/dist-packages/keras/src/engine/training.py\", line 2049, in step_function  **\n        outputs = model.distribute_strategy.run(run_step, args=(data,))\n    File \"/usr/local/lib/python3.10/dist-packages/keras/src/engine/training.py\", line 2037, in run_step  **\n        outputs = model.test_step(data)\n    File \"/usr/local/lib/python3.10/dist-packages/keras/src/engine/training.py\", line 1917, in test_step\n        y_pred = self(x, training=False)\n    File \"/usr/local/lib/python3.10/dist-packages/keras/src/utils/traceback_utils.py\", line 70, in error_handler\n        raise e.with_traceback(filtered_tb) from None\n    File \"/usr/local/lib/python3.10/dist-packages/keras/src/engine/input_spec.py\", line 280, in assert_input_compatibility\n        raise ValueError(\n\n    ValueError: Exception encountered when calling layer 'sequential_13' (type Sequential).\n    \n    Input 0 of layer \"dense_20\" is incompatible with the layer: expected axis -1 of input shape to have value 784, but received input with shape (None, 784, 6)\n    \n    Call arguments received by layer 'sequential_13' (type Sequential):\n      • inputs=tf.Tensor(shape=(None, 784, 6), dtype=uint8)\n      • training=False\n      • mask=None\n"
          ]
        }
      ]
    },
    {
      "cell_type": "code",
      "source": [
        "x_test.shape"
      ],
      "metadata": {
        "id": "C5SGqLoWX-gT",
        "colab": {
          "base_uri": "https://localhost:8080/"
        },
        "outputId": "40f87840-c0f8-48be-852c-fb7604f89a99"
      },
      "execution_count": null,
      "outputs": [
        {
          "output_type": "execute_result",
          "data": {
            "text/plain": [
              "(10000, 784, 6)"
            ]
          },
          "metadata": {},
          "execution_count": 242
        }
      ]
    },
    {
      "cell_type": "code",
      "source": [],
      "metadata": {
        "id": "VUau4r6AfG4c"
      },
      "execution_count": null,
      "outputs": []
    }
  ]
}